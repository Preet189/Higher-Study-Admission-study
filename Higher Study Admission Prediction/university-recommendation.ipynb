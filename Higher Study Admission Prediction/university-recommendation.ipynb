{
 "cells": [
  {
   "cell_type": "code",
   "execution_count": 1,
   "id": "49682d93",
   "metadata": {
    "_cell_guid": "b1076dfc-b9ad-4769-8c92-a6c4dae69d19",
    "_uuid": "8f2839f25d086af736a60e9eeb907d3b93b6e0e5",
    "execution": {
     "iopub.execute_input": "2022-04-30T06:10:19.552988Z",
     "iopub.status.busy": "2022-04-30T06:10:19.551869Z",
     "iopub.status.idle": "2022-04-30T06:10:20.654285Z",
     "shell.execute_reply": "2022-04-30T06:10:20.655108Z",
     "shell.execute_reply.started": "2022-04-30T06:09:07.743919Z"
    },
    "papermill": {
     "duration": 1.148552,
     "end_time": "2022-04-30T06:10:20.655475",
     "exception": false,
     "start_time": "2022-04-30T06:10:19.506923",
     "status": "completed"
    },
    "tags": []
   },
   "outputs": [
    {
     "name": "stdout",
     "output_type": "stream",
     "text": [
      "/kaggle/input/universities/Final2.csv\n",
      "/kaggle/input/graduate-admissions/Admission_Predict.csv\n",
      "/kaggle/input/graduate-admissions/Admission_Predict_Ver1.1.csv\n"
     ]
    }
   ],
   "source": [
    "import numpy as np\n",
    "import pandas as pd\n",
    "import matplotlib.pyplot as plt\n",
    "import seaborn as sns\n",
    "import re\n",
    "#import requests\n",
    "sns.set(style='white')\n",
    "sns.set(style='whitegrid', color_codes=True)\n",
    "from collections import Counter\n",
    "import warnings\n",
    "warnings.filterwarnings('ignore')\n",
    "import os\n",
    "for dirname, _, filenames in os.walk('/kaggle/input'):\n",
    "    for filename in filenames:\n",
    "        print(os.path.join(dirname, filename))"
   ]
  },
  {
   "cell_type": "code",
   "execution_count": 2,
   "id": "9d3575ec",
   "metadata": {
    "execution": {
     "iopub.execute_input": "2022-04-30T06:10:20.745505Z",
     "iopub.status.busy": "2022-04-30T06:10:20.744877Z",
     "iopub.status.idle": "2022-04-30T06:10:20.785253Z",
     "shell.execute_reply": "2022-04-30T06:10:20.784605Z",
     "shell.execute_reply.started": "2022-04-30T06:09:07.768489Z"
    },
    "papermill": {
     "duration": 0.087742,
     "end_time": "2022-04-30T06:10:20.785394",
     "exception": false,
     "start_time": "2022-04-30T06:10:20.697652",
     "status": "completed"
    },
    "tags": []
   },
   "outputs": [],
   "source": [
    "grad1=pd.read_csv('../input/graduate-admissions/Admission_Predict_Ver1.1.csv')\n",
    "grad2=pd.read_csv('../input/graduate-admissions/Admission_Predict.csv')\n",
    "grad=grad2.append(grad1) \n",
    "grad.drop(['Serial No.'], axis = 1, inplace = True)\n",
    "grad.rename(columns = {'CGPA':'GPA','Chance of Admit ':'Chance of Admit', 'LOR ':'LOR', 'GRE Score':'GRE', 'TOEFL Score':'TOEFL'}, inplace=True)\n",
    "grad['GPA']= grad['GPA'].apply(lambda x:round(x,1))"
   ]
  },
  {
   "cell_type": "code",
   "execution_count": 3,
   "id": "5509def9",
   "metadata": {
    "execution": {
     "iopub.execute_input": "2022-04-30T06:10:20.870283Z",
     "iopub.status.busy": "2022-04-30T06:10:20.866101Z",
     "iopub.status.idle": "2022-04-30T06:10:20.884991Z",
     "shell.execute_reply": "2022-04-30T06:10:20.885437Z",
     "shell.execute_reply.started": "2022-04-30T06:09:07.790804Z"
    },
    "papermill": {
     "duration": 0.06117,
     "end_time": "2022-04-30T06:10:20.885600",
     "exception": false,
     "start_time": "2022-04-30T06:10:20.824430",
     "status": "completed"
    },
    "tags": []
   },
   "outputs": [
    {
     "data": {
      "text/html": [
       "<div>\n",
       "<style scoped>\n",
       "    .dataframe tbody tr th:only-of-type {\n",
       "        vertical-align: middle;\n",
       "    }\n",
       "\n",
       "    .dataframe tbody tr th {\n",
       "        vertical-align: top;\n",
       "    }\n",
       "\n",
       "    .dataframe thead th {\n",
       "        text-align: right;\n",
       "    }\n",
       "</style>\n",
       "<table border=\"1\" class=\"dataframe\">\n",
       "  <thead>\n",
       "    <tr style=\"text-align: right;\">\n",
       "      <th></th>\n",
       "      <th>GRE</th>\n",
       "      <th>TOEFL</th>\n",
       "      <th>University Rating</th>\n",
       "      <th>SOP</th>\n",
       "      <th>LOR</th>\n",
       "      <th>GPA</th>\n",
       "      <th>Research</th>\n",
       "      <th>Chance of Admit</th>\n",
       "    </tr>\n",
       "  </thead>\n",
       "  <tbody>\n",
       "    <tr>\n",
       "      <th>0</th>\n",
       "      <td>337</td>\n",
       "      <td>118</td>\n",
       "      <td>4</td>\n",
       "      <td>4.5</td>\n",
       "      <td>4.5</td>\n",
       "      <td>9.7</td>\n",
       "      <td>1</td>\n",
       "      <td>0.92</td>\n",
       "    </tr>\n",
       "    <tr>\n",
       "      <th>1</th>\n",
       "      <td>324</td>\n",
       "      <td>107</td>\n",
       "      <td>4</td>\n",
       "      <td>4.0</td>\n",
       "      <td>4.5</td>\n",
       "      <td>8.9</td>\n",
       "      <td>1</td>\n",
       "      <td>0.76</td>\n",
       "    </tr>\n",
       "    <tr>\n",
       "      <th>2</th>\n",
       "      <td>316</td>\n",
       "      <td>104</td>\n",
       "      <td>3</td>\n",
       "      <td>3.0</td>\n",
       "      <td>3.5</td>\n",
       "      <td>8.0</td>\n",
       "      <td>1</td>\n",
       "      <td>0.72</td>\n",
       "    </tr>\n",
       "    <tr>\n",
       "      <th>3</th>\n",
       "      <td>322</td>\n",
       "      <td>110</td>\n",
       "      <td>3</td>\n",
       "      <td>3.5</td>\n",
       "      <td>2.5</td>\n",
       "      <td>8.7</td>\n",
       "      <td>1</td>\n",
       "      <td>0.80</td>\n",
       "    </tr>\n",
       "    <tr>\n",
       "      <th>4</th>\n",
       "      <td>314</td>\n",
       "      <td>103</td>\n",
       "      <td>2</td>\n",
       "      <td>2.0</td>\n",
       "      <td>3.0</td>\n",
       "      <td>8.2</td>\n",
       "      <td>0</td>\n",
       "      <td>0.65</td>\n",
       "    </tr>\n",
       "  </tbody>\n",
       "</table>\n",
       "</div>"
      ],
      "text/plain": [
       "   GRE  TOEFL  University Rating  SOP  LOR  GPA  Research  Chance of Admit\n",
       "0  337    118                  4  4.5  4.5  9.7         1             0.92\n",
       "1  324    107                  4  4.0  4.5  8.9         1             0.76\n",
       "2  316    104                  3  3.0  3.5  8.0         1             0.72\n",
       "3  322    110                  3  3.5  2.5  8.7         1             0.80\n",
       "4  314    103                  2  2.0  3.0  8.2         0             0.65"
      ]
     },
     "execution_count": 3,
     "metadata": {},
     "output_type": "execute_result"
    }
   ],
   "source": [
    "grad.head()"
   ]
  },
  {
   "cell_type": "code",
   "execution_count": 4,
   "id": "e473a098",
   "metadata": {
    "execution": {
     "iopub.execute_input": "2022-04-30T06:10:20.973100Z",
     "iopub.status.busy": "2022-04-30T06:10:20.972422Z",
     "iopub.status.idle": "2022-04-30T06:10:20.999543Z",
     "shell.execute_reply": "2022-04-30T06:10:21.000075Z",
     "shell.execute_reply.started": "2022-04-30T06:09:07.808955Z"
    },
    "papermill": {
     "duration": 0.074865,
     "end_time": "2022-04-30T06:10:21.000244",
     "exception": false,
     "start_time": "2022-04-30T06:10:20.925379",
     "status": "completed"
    },
    "tags": []
   },
   "outputs": [
    {
     "data": {
      "text/html": [
       "<div>\n",
       "<style scoped>\n",
       "    .dataframe tbody tr th:only-of-type {\n",
       "        vertical-align: middle;\n",
       "    }\n",
       "\n",
       "    .dataframe tbody tr th {\n",
       "        vertical-align: top;\n",
       "    }\n",
       "\n",
       "    .dataframe thead th {\n",
       "        text-align: right;\n",
       "    }\n",
       "</style>\n",
       "<table border=\"1\" class=\"dataframe\">\n",
       "  <thead>\n",
       "    <tr style=\"text-align: right;\">\n",
       "      <th></th>\n",
       "      <th>GRE</th>\n",
       "      <th>TOEFL</th>\n",
       "      <th>University Rating</th>\n",
       "      <th>SOP</th>\n",
       "      <th>LOR</th>\n",
       "      <th>GPA</th>\n",
       "      <th>Research</th>\n",
       "      <th>Chance of Admit</th>\n",
       "    </tr>\n",
       "  </thead>\n",
       "  <tbody>\n",
       "    <tr>\n",
       "      <th>count</th>\n",
       "      <td>900.000000</td>\n",
       "      <td>900.000000</td>\n",
       "      <td>900.000000</td>\n",
       "      <td>900.000000</td>\n",
       "      <td>900.00000</td>\n",
       "      <td>900.000000</td>\n",
       "      <td>900.000000</td>\n",
       "      <td>900.000000</td>\n",
       "    </tr>\n",
       "    <tr>\n",
       "      <th>mean</th>\n",
       "      <td>316.621111</td>\n",
       "      <td>107.288889</td>\n",
       "      <td>3.102222</td>\n",
       "      <td>3.385556</td>\n",
       "      <td>3.47000</td>\n",
       "      <td>8.588444</td>\n",
       "      <td>0.554444</td>\n",
       "      <td>0.722900</td>\n",
       "    </tr>\n",
       "    <tr>\n",
       "      <th>std</th>\n",
       "      <td>11.369700</td>\n",
       "      <td>6.073968</td>\n",
       "      <td>1.143048</td>\n",
       "      <td>0.997612</td>\n",
       "      <td>0.91319</td>\n",
       "      <td>0.600926</td>\n",
       "      <td>0.497303</td>\n",
       "      <td>0.141722</td>\n",
       "    </tr>\n",
       "    <tr>\n",
       "      <th>min</th>\n",
       "      <td>290.000000</td>\n",
       "      <td>92.000000</td>\n",
       "      <td>1.000000</td>\n",
       "      <td>1.000000</td>\n",
       "      <td>1.00000</td>\n",
       "      <td>6.800000</td>\n",
       "      <td>0.000000</td>\n",
       "      <td>0.340000</td>\n",
       "    </tr>\n",
       "    <tr>\n",
       "      <th>25%</th>\n",
       "      <td>308.000000</td>\n",
       "      <td>103.000000</td>\n",
       "      <td>2.000000</td>\n",
       "      <td>2.500000</td>\n",
       "      <td>3.00000</td>\n",
       "      <td>8.100000</td>\n",
       "      <td>0.000000</td>\n",
       "      <td>0.640000</td>\n",
       "    </tr>\n",
       "    <tr>\n",
       "      <th>50%</th>\n",
       "      <td>317.000000</td>\n",
       "      <td>107.000000</td>\n",
       "      <td>3.000000</td>\n",
       "      <td>3.500000</td>\n",
       "      <td>3.50000</td>\n",
       "      <td>8.600000</td>\n",
       "      <td>1.000000</td>\n",
       "      <td>0.730000</td>\n",
       "    </tr>\n",
       "    <tr>\n",
       "      <th>75%</th>\n",
       "      <td>325.000000</td>\n",
       "      <td>112.000000</td>\n",
       "      <td>4.000000</td>\n",
       "      <td>4.000000</td>\n",
       "      <td>4.00000</td>\n",
       "      <td>9.100000</td>\n",
       "      <td>1.000000</td>\n",
       "      <td>0.822500</td>\n",
       "    </tr>\n",
       "    <tr>\n",
       "      <th>max</th>\n",
       "      <td>340.000000</td>\n",
       "      <td>120.000000</td>\n",
       "      <td>5.000000</td>\n",
       "      <td>5.000000</td>\n",
       "      <td>5.00000</td>\n",
       "      <td>9.900000</td>\n",
       "      <td>1.000000</td>\n",
       "      <td>0.970000</td>\n",
       "    </tr>\n",
       "  </tbody>\n",
       "</table>\n",
       "</div>"
      ],
      "text/plain": [
       "              GRE       TOEFL  University Rating         SOP        LOR  \\\n",
       "count  900.000000  900.000000         900.000000  900.000000  900.00000   \n",
       "mean   316.621111  107.288889           3.102222    3.385556    3.47000   \n",
       "std     11.369700    6.073968           1.143048    0.997612    0.91319   \n",
       "min    290.000000   92.000000           1.000000    1.000000    1.00000   \n",
       "25%    308.000000  103.000000           2.000000    2.500000    3.00000   \n",
       "50%    317.000000  107.000000           3.000000    3.500000    3.50000   \n",
       "75%    325.000000  112.000000           4.000000    4.000000    4.00000   \n",
       "max    340.000000  120.000000           5.000000    5.000000    5.00000   \n",
       "\n",
       "              GPA    Research  Chance of Admit  \n",
       "count  900.000000  900.000000       900.000000  \n",
       "mean     8.588444    0.554444         0.722900  \n",
       "std      0.600926    0.497303         0.141722  \n",
       "min      6.800000    0.000000         0.340000  \n",
       "25%      8.100000    0.000000         0.640000  \n",
       "50%      8.600000    1.000000         0.730000  \n",
       "75%      9.100000    1.000000         0.822500  \n",
       "max      9.900000    1.000000         0.970000  "
      ]
     },
     "execution_count": 4,
     "metadata": {},
     "output_type": "execute_result"
    }
   ],
   "source": [
    "grad.describe()"
   ]
  },
  {
   "cell_type": "code",
   "execution_count": 5,
   "id": "6627bdaf",
   "metadata": {
    "execution": {
     "iopub.execute_input": "2022-04-30T06:10:21.083037Z",
     "iopub.status.busy": "2022-04-30T06:10:21.082444Z",
     "iopub.status.idle": "2022-04-30T06:10:21.088709Z",
     "shell.execute_reply": "2022-04-30T06:10:21.089218Z",
     "shell.execute_reply.started": "2022-04-30T06:09:07.851090Z"
    },
    "papermill": {
     "duration": 0.049054,
     "end_time": "2022-04-30T06:10:21.089394",
     "exception": false,
     "start_time": "2022-04-30T06:10:21.040340",
     "status": "completed"
    },
    "tags": []
   },
   "outputs": [
    {
     "name": "stdout",
     "output_type": "stream",
     "text": [
      "GRE                  0\n",
      "TOEFL                0\n",
      "University Rating    0\n",
      "SOP                  0\n",
      "LOR                  0\n",
      "GPA                  0\n",
      "Research             0\n",
      "Chance of Admit      0\n",
      "dtype: int64\n"
     ]
    }
   ],
   "source": [
    "print(grad.isnull().sum())"
   ]
  },
  {
   "cell_type": "code",
   "execution_count": 6,
   "id": "2ecc3c5e",
   "metadata": {
    "execution": {
     "iopub.execute_input": "2022-04-30T06:10:21.173735Z",
     "iopub.status.busy": "2022-04-30T06:10:21.173075Z",
     "iopub.status.idle": "2022-04-30T06:10:21.780555Z",
     "shell.execute_reply": "2022-04-30T06:10:21.781063Z",
     "shell.execute_reply.started": "2022-04-30T06:09:07.861345Z"
    },
    "papermill": {
     "duration": 0.651941,
     "end_time": "2022-04-30T06:10:21.781237",
     "exception": false,
     "start_time": "2022-04-30T06:10:21.129296",
     "status": "completed"
    },
    "tags": []
   },
   "outputs": [
    {
     "data": {
      "text/plain": [
       "<AxesSubplot:>"
      ]
     },
     "execution_count": 6,
     "metadata": {},
     "output_type": "execute_result"
    },
    {
     "data": {
      "image/png": "[encoded data removed]",
      "text/plain": [
       "<Figure size 720x720 with 2 Axes>"
      ]
     },
     "metadata": {},
     "output_type": "display_data"
    }
   ],
   "source": [
    "fig, ax = plt.subplots(figsize=(10,10))\n",
    "sns.heatmap(grad.corr(), annot=True, cmap='Blues')"
   ]
  },
  {
   "cell_type": "code",
   "execution_count": 7,
   "id": "5e929957",
   "metadata": {
    "execution": {
     "iopub.execute_input": "2022-04-30T06:10:21.871510Z",
     "iopub.status.busy": "2022-04-30T06:10:21.870926Z",
     "iopub.status.idle": "2022-04-30T06:10:22.580908Z",
     "shell.execute_reply": "2022-04-30T06:10:22.581354Z",
     "shell.execute_reply.started": "2022-04-30T06:09:08.592714Z"
    },
    "papermill": {
     "duration": 0.757047,
     "end_time": "2022-04-30T06:10:22.581514",
     "exception": false,
     "start_time": "2022-04-30T06:10:21.824467",
     "status": "completed"
    },
    "tags": []
   },
   "outputs": [
    {
     "data": {
      "text/plain": [
       "Text(0.5, 1.0, 'GPA vs TOEFL')"
      ]
     },
     "execution_count": 7,
     "metadata": {},
     "output_type": "execute_result"
    },
    {
     "data": {
      "image/png": "[encoded data removed]",
      "text/plain": [
       "<Figure size 1440x432 with 2 Axes>"
      ]
     },
     "metadata": {},
     "output_type": "display_data"
    }
   ],
   "source": [
    "plt.figure(figsize=(20,6))\n",
    "plt.subplot(1,2,1)\n",
    "sns.regplot(grad['GRE'], grad['TOEFL'])\n",
    "plt.title('GRE vs TOEFL')\n",
    "\n",
    "plt.subplot(1,2,2)\n",
    "sns.regplot(grad['GPA'], grad['TOEFL'])\n",
    "plt.title('GPA vs TOEFL')"
   ]
  },
  {
   "cell_type": "markdown",
   "id": "20084c81",
   "metadata": {
    "papermill": {
     "duration": 0.04623,
     "end_time": "2022-04-30T06:10:22.673357",
     "exception": false,
     "start_time": "2022-04-30T06:10:22.627127",
     "status": "completed"
    },
    "tags": []
   },
   "source": [
    "Chance of Admit is strogly related on CGPA, GRE and TOEFL\n",
    "TOEFL is strogly related on CGPA and GRE  "
   ]
  },
  {
   "cell_type": "code",
   "execution_count": 8,
   "id": "8641335e",
   "metadata": {
    "execution": {
     "iopub.execute_input": "2022-04-30T06:10:22.768351Z",
     "iopub.status.busy": "2022-04-30T06:10:22.767683Z",
     "iopub.status.idle": "2022-04-30T06:10:22.775194Z",
     "shell.execute_reply": "2022-04-30T06:10:22.775599Z",
     "shell.execute_reply.started": "2022-04-30T06:09:09.491717Z"
    },
    "papermill": {
     "duration": 0.057461,
     "end_time": "2022-04-30T06:10:22.775764",
     "exception": false,
     "start_time": "2022-04-30T06:10:22.718303",
     "status": "completed"
    },
    "tags": []
   },
   "outputs": [
    {
     "data": {
      "text/html": [
       "<div>\n",
       "<style scoped>\n",
       "    .dataframe tbody tr th:only-of-type {\n",
       "        vertical-align: middle;\n",
       "    }\n",
       "\n",
       "    .dataframe tbody tr th {\n",
       "        vertical-align: top;\n",
       "    }\n",
       "\n",
       "    .dataframe thead th {\n",
       "        text-align: right;\n",
       "    }\n",
       "</style>\n",
       "<table border=\"1\" class=\"dataframe\">\n",
       "  <thead>\n",
       "    <tr style=\"text-align: right;\">\n",
       "      <th></th>\n",
       "      <th>GPA</th>\n",
       "      <th>GRE</th>\n",
       "    </tr>\n",
       "  </thead>\n",
       "  <tbody>\n",
       "    <tr>\n",
       "      <th>0</th>\n",
       "      <td>9.7</td>\n",
       "      <td>337</td>\n",
       "    </tr>\n",
       "    <tr>\n",
       "      <th>1</th>\n",
       "      <td>8.9</td>\n",
       "      <td>324</td>\n",
       "    </tr>\n",
       "    <tr>\n",
       "      <th>2</th>\n",
       "      <td>8.0</td>\n",
       "      <td>316</td>\n",
       "    </tr>\n",
       "    <tr>\n",
       "      <th>3</th>\n",
       "      <td>8.7</td>\n",
       "      <td>322</td>\n",
       "    </tr>\n",
       "    <tr>\n",
       "      <th>4</th>\n",
       "      <td>8.2</td>\n",
       "      <td>314</td>\n",
       "    </tr>\n",
       "  </tbody>\n",
       "</table>\n",
       "</div>"
      ],
      "text/plain": [
       "   GPA  GRE\n",
       "0  9.7  337\n",
       "1  8.9  324\n",
       "2  8.0  316\n",
       "3  8.7  322\n",
       "4  8.2  314"
      ]
     },
     "execution_count": 8,
     "metadata": {},
     "output_type": "execute_result"
    }
   ],
   "source": [
    "X=grad[['GPA','GRE']]\n",
    "X.head()"
   ]
  },
  {
   "cell_type": "code",
   "execution_count": 9,
   "id": "cb2903f1",
   "metadata": {
    "execution": {
     "iopub.execute_input": "2022-04-30T06:10:22.869467Z",
     "iopub.status.busy": "2022-04-30T06:10:22.868901Z",
     "iopub.status.idle": "2022-04-30T06:10:22.873963Z",
     "shell.execute_reply": "2022-04-30T06:10:22.874371Z",
     "shell.execute_reply.started": "2022-04-30T06:09:09.507764Z"
    },
    "papermill": {
     "duration": 0.053401,
     "end_time": "2022-04-30T06:10:22.874540",
     "exception": false,
     "start_time": "2022-04-30T06:10:22.821139",
     "status": "completed"
    },
    "tags": []
   },
   "outputs": [
    {
     "data": {
      "text/plain": [
       "0    118\n",
       "1    107\n",
       "2    104\n",
       "3    110\n",
       "4    103\n",
       "Name: TOEFL, dtype: int64"
      ]
     },
     "execution_count": 9,
     "metadata": {},
     "output_type": "execute_result"
    }
   ],
   "source": [
    "Y=grad['TOEFL']\n",
    "Y.head()"
   ]
  },
  {
   "cell_type": "code",
   "execution_count": 10,
   "id": "62289d6a",
   "metadata": {
    "execution": {
     "iopub.execute_input": "2022-04-30T06:10:22.969212Z",
     "iopub.status.busy": "2022-04-30T06:10:22.968569Z",
     "iopub.status.idle": "2022-04-30T06:10:23.255386Z",
     "shell.execute_reply": "2022-04-30T06:10:23.254762Z",
     "shell.execute_reply.started": "2022-04-30T06:09:09.522754Z"
    },
    "papermill": {
     "duration": 0.335417,
     "end_time": "2022-04-30T06:10:23.255520",
     "exception": false,
     "start_time": "2022-04-30T06:10:22.920103",
     "status": "completed"
    },
    "tags": []
   },
   "outputs": [],
   "source": [
    "from sklearn.model_selection import train_test_split\n",
    "from sklearn import preprocessing\n",
    "from sklearn.linear_model import LinearRegression\n",
    "from sklearn.metrics import mean_squared_error,mean_absolute_error,r2_score\n",
    "#Normalisation works slightly better for Regression.\n",
    "X_norm=preprocessing.normalize(X)\n",
    "X_train,X_test,y_train,y_test=train_test_split(X,Y,test_size=0.20,random_state=10)"
   ]
  },
  {
   "cell_type": "code",
   "execution_count": 11,
   "id": "92121f30",
   "metadata": {
    "execution": {
     "iopub.execute_input": "2022-04-30T06:10:23.362875Z",
     "iopub.status.busy": "2022-04-30T06:10:23.362227Z",
     "iopub.status.idle": "2022-04-30T06:10:23.387605Z",
     "shell.execute_reply": "2022-04-30T06:10:23.388153Z",
     "shell.execute_reply.started": "2022-04-30T06:09:09.542009Z"
    },
    "papermill": {
     "duration": 0.080885,
     "end_time": "2022-04-30T06:10:23.388332",
     "exception": false,
     "start_time": "2022-04-30T06:10:23.307447",
     "status": "completed"
    },
    "tags": []
   },
   "outputs": [
    {
     "name": "stdout",
     "output_type": "stream",
     "text": [
      "9.10097024730669 2.387192869838648 0.7558952689983975\n"
     ]
    }
   ],
   "source": [
    "toefl_pred=LinearRegression()\n",
    "toefl_pred.fit(X_train,y_train)\n",
    "predictions = toefl_pred.predict(X_test)\n",
    "mse=mean_squared_error(y_test, predictions)\n",
    "mae=mean_absolute_error(y_test, predictions)\n",
    "r2=r2_score(y_test, predictions)\n",
    "score=toefl_pred.score(X_test,y_test)\n",
    "#round_pred=list(map(lambda x:round(x),predictions))\n",
    "print(mse, mae, r2)"
   ]
  },
  {
   "cell_type": "code",
   "execution_count": 12,
   "id": "c47808dd",
   "metadata": {
    "execution": {
     "iopub.execute_input": "2022-04-30T06:10:23.485057Z",
     "iopub.status.busy": "2022-04-30T06:10:23.484447Z",
     "iopub.status.idle": "2022-04-30T06:10:23.523569Z",
     "shell.execute_reply": "2022-04-30T06:10:23.524025Z",
     "shell.execute_reply.started": "2022-04-30T06:09:09.566627Z"
    },
    "papermill": {
     "duration": 0.089364,
     "end_time": "2022-04-30T06:10:23.524213",
     "exception": false,
     "start_time": "2022-04-30T06:10:23.434849",
     "status": "completed"
    },
    "tags": []
   },
   "outputs": [],
   "source": [
    "df=pd.read_csv('../input/universities/Final2.csv')\n",
    "df.drop(['Unnamed: 6'], axis = 1, inplace = True)\n",
    "df['GRE']= df['greq']+df['grev']"
   ]
  },
  {
   "cell_type": "code",
   "execution_count": 13,
   "id": "4f674d3d",
   "metadata": {
    "execution": {
     "iopub.execute_input": "2022-04-30T06:10:23.626176Z",
     "iopub.status.busy": "2022-04-30T06:10:23.625286Z",
     "iopub.status.idle": "2022-04-30T06:10:23.628576Z",
     "shell.execute_reply": "2022-04-30T06:10:23.629203Z",
     "shell.execute_reply.started": "2022-04-30T06:09:09.605681Z"
    },
    "papermill": {
     "duration": 0.058813,
     "end_time": "2022-04-30T06:10:23.629400",
     "exception": false,
     "start_time": "2022-04-30T06:10:23.570587",
     "status": "completed"
    },
    "tags": []
   },
   "outputs": [
    {
     "data": {
      "text/plain": [
       "array(['International', 'International with US Degree', 'American',\n",
       "       'Other', nan], dtype=object)"
      ]
     },
     "execution_count": 13,
     "metadata": {},
     "output_type": "execute_result"
    }
   ],
   "source": [
    "df['type'].unique()"
   ]
  },
  {
   "cell_type": "code",
   "execution_count": 14,
   "id": "121ee040",
   "metadata": {
    "execution": {
     "iopub.execute_input": "2022-04-30T06:10:23.732983Z",
     "iopub.status.busy": "2022-04-30T06:10:23.732260Z",
     "iopub.status.idle": "2022-04-30T06:10:23.737707Z",
     "shell.execute_reply": "2022-04-30T06:10:23.737133Z",
     "shell.execute_reply.started": "2022-04-30T06:09:09.617405Z"
    },
    "papermill": {
     "duration": 0.06194,
     "end_time": "2022-04-30T06:10:23.737898",
     "exception": false,
     "start_time": "2022-04-30T06:10:23.675958",
     "status": "completed"
    },
    "tags": []
   },
   "outputs": [],
   "source": [
    "univ=df[(df['type']=='International')][['University','GRE','GPA']]"
   ]
  },
  {
   "cell_type": "code",
   "execution_count": 15,
   "id": "d72be372",
   "metadata": {
    "execution": {
     "iopub.execute_input": "2022-04-30T06:10:23.838632Z",
     "iopub.status.busy": "2022-04-30T06:10:23.838044Z",
     "iopub.status.idle": "2022-04-30T06:10:23.843349Z",
     "shell.execute_reply": "2022-04-30T06:10:23.843865Z",
     "shell.execute_reply.started": "2022-04-30T06:09:09.639813Z"
    },
    "papermill": {
     "duration": 0.058804,
     "end_time": "2022-04-30T06:10:23.844034",
     "exception": false,
     "start_time": "2022-04-30T06:10:23.785230",
     "status": "completed"
    },
    "tags": []
   },
   "outputs": [
    {
     "data": {
      "text/plain": [
       "1034"
      ]
     },
     "execution_count": 15,
     "metadata": {},
     "output_type": "execute_result"
    }
   ],
   "source": [
    "len(univ.University.str.lower().unique())"
   ]
  },
  {
   "cell_type": "code",
   "execution_count": 16,
   "id": "0f333df0",
   "metadata": {
    "execution": {
     "iopub.execute_input": "2022-04-30T06:10:23.941866Z",
     "iopub.status.busy": "2022-04-30T06:10:23.940931Z",
     "iopub.status.idle": "2022-04-30T06:10:23.945646Z",
     "shell.execute_reply": "2022-04-30T06:10:23.946180Z",
     "shell.execute_reply.started": "2022-04-30T06:09:09.659474Z"
    },
    "papermill": {
     "duration": 0.054928,
     "end_time": "2022-04-30T06:10:23.946357",
     "exception": false,
     "start_time": "2022-04-30T06:10:23.891429",
     "status": "completed"
    },
    "tags": []
   },
   "outputs": [],
   "source": [
    "def gpa_conv(gpa):\n",
    "    if gpa<=4:\n",
    "        r3=round(gpa,1)\n",
    "        return 7+3*(r3-3)\n",
    "    elif gpa>6:\n",
    "        return round(gpa,1)\n",
    "    return 0"
   ]
  },
  {
   "cell_type": "code",
   "execution_count": 17,
   "id": "03563470",
   "metadata": {
    "execution": {
     "iopub.execute_input": "2022-04-30T06:10:24.044199Z",
     "iopub.status.busy": "2022-04-30T06:10:24.043291Z",
     "iopub.status.idle": "2022-04-30T06:10:24.053439Z",
     "shell.execute_reply": "2022-04-30T06:10:24.053893Z",
     "shell.execute_reply.started": "2022-04-30T06:09:09.675631Z"
    },
    "papermill": {
     "duration": 0.061068,
     "end_time": "2022-04-30T06:10:24.054071",
     "exception": false,
     "start_time": "2022-04-30T06:10:23.993003",
     "status": "completed"
    },
    "tags": []
   },
   "outputs": [],
   "source": [
    "univ['GPA']=univ['GPA'].apply(gpa_conv)"
   ]
  },
  {
   "cell_type": "code",
   "execution_count": 18,
   "id": "0ad06ff6",
   "metadata": {
    "execution": {
     "iopub.execute_input": "2022-04-30T06:10:24.153284Z",
     "iopub.status.busy": "2022-04-30T06:10:24.152347Z",
     "iopub.status.idle": "2022-04-30T06:10:24.157167Z",
     "shell.execute_reply": "2022-04-30T06:10:24.157676Z",
     "shell.execute_reply.started": "2022-04-30T06:09:09.699767Z"
    },
    "papermill": {
     "duration": 0.055808,
     "end_time": "2022-04-30T06:10:24.157870",
     "exception": false,
     "start_time": "2022-04-30T06:10:24.102062",
     "status": "completed"
    },
    "tags": []
   },
   "outputs": [],
   "source": [
    "univ=univ[univ['GPA']>7]"
   ]
  },
  {
   "cell_type": "code",
   "execution_count": 19,
   "id": "a9540b17",
   "metadata": {
    "execution": {
     "iopub.execute_input": "2022-04-30T06:10:24.254533Z",
     "iopub.status.busy": "2022-04-30T06:10:24.253609Z",
     "iopub.status.idle": "2022-04-30T06:10:24.260574Z",
     "shell.execute_reply": "2022-04-30T06:10:24.261086Z",
     "shell.execute_reply.started": "2022-04-30T06:09:09.717826Z"
    },
    "papermill": {
     "duration": 0.05695,
     "end_time": "2022-04-30T06:10:24.261250",
     "exception": false,
     "start_time": "2022-04-30T06:10:24.204300",
     "status": "completed"
    },
    "tags": []
   },
   "outputs": [],
   "source": [
    "#tested regex queries for given universities\n",
    "codes={'UCSD|San Diego':'University of California, San Diego (UCSD)','Berkeley|ucb':'University of California, Berkeley (UCB)'\n",
    "       ,'ucla':'University of California, Los Angeles (UCLA)','Mich':'University of Michigan-Ann Arbor'\n",
    "       ,'Houston':'University of Houston','Carnegie |cmu':'Carnegie Mellon University','john':'Johns Hopkins University'\n",
    "       ,'stanford':'Stanford University','ohio':'Ohio State University ','urbana|uiuc':'University of Illinois at Urbana-Champaign',\n",
    " 'Wisconsin':'University of Wisconsin-Madison','iowa':'University of Iowa','austin':'University of Texas at Austin',\n",
    "       'rice':'Rice University','duke':'Duke University','Columbia University':'Columbia University','Colorado':'Colorado state university',\n",
    "       'Bloomington':'Indiana University','dallas':'UT Dallas','yale':'Yale University','University Of Washington':'University Of Washington'\n",
    "       ,'University of Pennsylvania':'University of Pennsylvania','Chapel Hill|unc':'University of North Carolina, Chapel Hill','IUPUI':'IUPUI',\n",
    "       'University of Florida':'University of Florida','Buffalo':'SUNY Buffalo','University Of Chicago':'University of Chicago'\n",
    "       ,'Princeton':'Princeton University','Northwestern Uni':'Northwestern University','nyu':'New York University (NYU)',\n",
    "       'Louisiana state':'Louisiana State University','Harvard':'Harvard University','Cornell':'Cornell University','brown':'Brown University'}"
   ]
  },
  {
   "cell_type": "code",
   "execution_count": 20,
   "id": "b1558483",
   "metadata": {
    "execution": {
     "iopub.execute_input": "2022-04-30T06:10:24.358039Z",
     "iopub.status.busy": "2022-04-30T06:10:24.357090Z",
     "iopub.status.idle": "2022-04-30T06:10:24.360233Z",
     "shell.execute_reply": "2022-04-30T06:10:24.360761Z",
     "shell.execute_reply.started": "2022-04-30T06:09:09.728849Z"
    },
    "papermill": {
     "duration": 0.053258,
     "end_time": "2022-04-30T06:10:24.360945",
     "exception": false,
     "start_time": "2022-04-30T06:10:24.307687",
     "status": "completed"
    },
    "tags": []
   },
   "outputs": [],
   "source": [
    "#list(univ[univ.University.str.contains('Bloomington', case=False, regex=True)]['University'].unique())\n",
    "#sum(univ.University=='New York University')"
   ]
  },
  {
   "cell_type": "code",
   "execution_count": 21,
   "id": "33cf8e1c",
   "metadata": {
    "execution": {
     "iopub.execute_input": "2022-04-30T06:10:24.470257Z",
     "iopub.status.busy": "2022-04-30T06:10:24.469612Z",
     "iopub.status.idle": "2022-04-30T06:10:24.655069Z",
     "shell.execute_reply": "2022-04-30T06:10:24.654511Z",
     "shell.execute_reply.started": "2022-04-30T06:09:09.741278Z"
    },
    "papermill": {
     "duration": 0.247735,
     "end_time": "2022-04-30T06:10:24.655222",
     "exception": false,
     "start_time": "2022-04-30T06:10:24.407487",
     "status": "completed"
    },
    "tags": []
   },
   "outputs": [],
   "source": [
    "data=pd.DataFrame()\n",
    "for i in codes:\n",
    "    frame=univ[univ.University.str.contains(i, case=False, regex=True)]\n",
    "    frame.University=codes[i]\n",
    "    data=data.append(frame,ignore_index=True)"
   ]
  },
  {
   "cell_type": "code",
   "execution_count": 22,
   "id": "d6c2401c",
   "metadata": {
    "execution": {
     "iopub.execute_input": "2022-04-30T06:10:24.754809Z",
     "iopub.status.busy": "2022-04-30T06:10:24.754198Z",
     "iopub.status.idle": "2022-04-30T06:10:24.761972Z",
     "shell.execute_reply": "2022-04-30T06:10:24.762483Z",
     "shell.execute_reply.started": "2022-04-30T06:09:10.050420Z"
    },
    "papermill": {
     "duration": 0.060039,
     "end_time": "2022-04-30T06:10:24.762637",
     "exception": false,
     "start_time": "2022-04-30T06:10:24.702598",
     "status": "completed"
    },
    "tags": []
   },
   "outputs": [
    {
     "data": {
      "text/html": [
       "<div>\n",
       "<style scoped>\n",
       "    .dataframe tbody tr th:only-of-type {\n",
       "        vertical-align: middle;\n",
       "    }\n",
       "\n",
       "    .dataframe tbody tr th {\n",
       "        vertical-align: top;\n",
       "    }\n",
       "\n",
       "    .dataframe thead th {\n",
       "        text-align: right;\n",
       "    }\n",
       "</style>\n",
       "<table border=\"1\" class=\"dataframe\">\n",
       "  <thead>\n",
       "    <tr style=\"text-align: right;\">\n",
       "      <th></th>\n",
       "      <th>University</th>\n",
       "      <th>GRE</th>\n",
       "      <th>GPA</th>\n",
       "    </tr>\n",
       "  </thead>\n",
       "  <tbody>\n",
       "    <tr>\n",
       "      <th>0</th>\n",
       "      <td>University of California, San Diego (UCSD)</td>\n",
       "      <td>334</td>\n",
       "      <td>8.9</td>\n",
       "    </tr>\n",
       "    <tr>\n",
       "      <th>1</th>\n",
       "      <td>University of California, San Diego (UCSD)</td>\n",
       "      <td>336</td>\n",
       "      <td>8.8</td>\n",
       "    </tr>\n",
       "    <tr>\n",
       "      <th>2</th>\n",
       "      <td>University of California, San Diego (UCSD)</td>\n",
       "      <td>329</td>\n",
       "      <td>9.4</td>\n",
       "    </tr>\n",
       "    <tr>\n",
       "      <th>3</th>\n",
       "      <td>University of California, San Diego (UCSD)</td>\n",
       "      <td>317</td>\n",
       "      <td>9.7</td>\n",
       "    </tr>\n",
       "    <tr>\n",
       "      <th>4</th>\n",
       "      <td>University of California, San Diego (UCSD)</td>\n",
       "      <td>334</td>\n",
       "      <td>9.7</td>\n",
       "    </tr>\n",
       "  </tbody>\n",
       "</table>\n",
       "</div>"
      ],
      "text/plain": [
       "                                   University  GRE  GPA\n",
       "0  University of California, San Diego (UCSD)  334  8.9\n",
       "1  University of California, San Diego (UCSD)  336  8.8\n",
       "2  University of California, San Diego (UCSD)  329  9.4\n",
       "3  University of California, San Diego (UCSD)  317  9.7\n",
       "4  University of California, San Diego (UCSD)  334  9.7"
      ]
     },
     "execution_count": 22,
     "metadata": {},
     "output_type": "execute_result"
    }
   ],
   "source": [
    "data.head()"
   ]
  },
  {
   "cell_type": "markdown",
   "id": "a506ff20",
   "metadata": {
    "papermill": {
     "duration": 0.048494,
     "end_time": "2022-04-30T06:10:24.858516",
     "exception": false,
     "start_time": "2022-04-30T06:10:24.810022",
     "status": "completed"
    },
    "tags": []
   },
   "source": [
    "**Predicting TOEFL Scores for data using Linear regression**"
   ]
  },
  {
   "cell_type": "code",
   "execution_count": 23,
   "id": "95d084da",
   "metadata": {
    "execution": {
     "iopub.execute_input": "2022-04-30T06:10:24.956065Z",
     "iopub.status.busy": "2022-04-30T06:10:24.955496Z",
     "iopub.status.idle": "2022-04-30T06:10:24.965303Z",
     "shell.execute_reply": "2022-04-30T06:10:24.965736Z",
     "shell.execute_reply.started": "2022-04-30T06:09:10.065886Z"
    },
    "papermill": {
     "duration": 0.059499,
     "end_time": "2022-04-30T06:10:24.965924",
     "exception": false,
     "start_time": "2022-04-30T06:10:24.906425",
     "status": "completed"
    },
    "tags": []
   },
   "outputs": [],
   "source": [
    "x=data[['GPA','GRE']]\n",
    "predictions = toefl_pred.predict(x)\n",
    "round_pred=list(map(lambda x:round(x),predictions))"
   ]
  },
  {
   "cell_type": "code",
   "execution_count": 24,
   "id": "32148914",
   "metadata": {
    "execution": {
     "iopub.execute_input": "2022-04-30T06:10:25.063734Z",
     "iopub.status.busy": "2022-04-30T06:10:25.063183Z",
     "iopub.status.idle": "2022-04-30T06:10:25.067648Z",
     "shell.execute_reply": "2022-04-30T06:10:25.068131Z",
     "shell.execute_reply.started": "2022-04-30T06:09:10.095464Z"
    },
    "papermill": {
     "duration": 0.054908,
     "end_time": "2022-04-30T06:10:25.068313",
     "exception": false,
     "start_time": "2022-04-30T06:10:25.013405",
     "status": "completed"
    },
    "tags": []
   },
   "outputs": [],
   "source": [
    "data['TOEFL']=round_pred"
   ]
  },
  {
   "cell_type": "markdown",
   "id": "c90bb0d1",
   "metadata": {
    "papermill": {
     "duration": 0.048342,
     "end_time": "2022-04-30T06:10:25.165482",
     "exception": false,
     "start_time": "2022-04-30T06:10:25.117140",
     "status": "completed"
    },
    "tags": []
   },
   "source": [
    "**Final data with GRE GPA and TOEFL scores**"
   ]
  },
  {
   "cell_type": "code",
   "execution_count": 25,
   "id": "3f54cbfd",
   "metadata": {
    "execution": {
     "iopub.execute_input": "2022-04-30T06:10:25.265569Z",
     "iopub.status.busy": "2022-04-30T06:10:25.264950Z",
     "iopub.status.idle": "2022-04-30T06:10:25.273378Z",
     "shell.execute_reply": "2022-04-30T06:10:25.273834Z",
     "shell.execute_reply.started": "2022-04-30T06:09:10.105818Z"
    },
    "papermill": {
     "duration": 0.058873,
     "end_time": "2022-04-30T06:10:25.273999",
     "exception": false,
     "start_time": "2022-04-30T06:10:25.215126",
     "status": "completed"
    },
    "tags": []
   },
   "outputs": [
    {
     "data": {
      "text/html": [
       "<div>\n",
       "<style scoped>\n",
       "    .dataframe tbody tr th:only-of-type {\n",
       "        vertical-align: middle;\n",
       "    }\n",
       "\n",
       "    .dataframe tbody tr th {\n",
       "        vertical-align: top;\n",
       "    }\n",
       "\n",
       "    .dataframe thead th {\n",
       "        text-align: right;\n",
       "    }\n",
       "</style>\n",
       "<table border=\"1\" class=\"dataframe\">\n",
       "  <thead>\n",
       "    <tr style=\"text-align: right;\">\n",
       "      <th></th>\n",
       "      <th>University</th>\n",
       "      <th>GRE</th>\n",
       "      <th>GPA</th>\n",
       "      <th>TOEFL</th>\n",
       "    </tr>\n",
       "  </thead>\n",
       "  <tbody>\n",
       "    <tr>\n",
       "      <th>0</th>\n",
       "      <td>University of California, San Diego (UCSD)</td>\n",
       "      <td>334</td>\n",
       "      <td>8.9</td>\n",
       "      <td>113</td>\n",
       "    </tr>\n",
       "    <tr>\n",
       "      <th>1</th>\n",
       "      <td>University of California, San Diego (UCSD)</td>\n",
       "      <td>336</td>\n",
       "      <td>8.8</td>\n",
       "      <td>113</td>\n",
       "    </tr>\n",
       "    <tr>\n",
       "      <th>2</th>\n",
       "      <td>University of California, San Diego (UCSD)</td>\n",
       "      <td>329</td>\n",
       "      <td>9.4</td>\n",
       "      <td>114</td>\n",
       "    </tr>\n",
       "    <tr>\n",
       "      <th>3</th>\n",
       "      <td>University of California, San Diego (UCSD)</td>\n",
       "      <td>317</td>\n",
       "      <td>9.7</td>\n",
       "      <td>112</td>\n",
       "    </tr>\n",
       "    <tr>\n",
       "      <th>4</th>\n",
       "      <td>University of California, San Diego (UCSD)</td>\n",
       "      <td>334</td>\n",
       "      <td>9.7</td>\n",
       "      <td>116</td>\n",
       "    </tr>\n",
       "  </tbody>\n",
       "</table>\n",
       "</div>"
      ],
      "text/plain": [
       "                                   University  GRE  GPA  TOEFL\n",
       "0  University of California, San Diego (UCSD)  334  8.9    113\n",
       "1  University of California, San Diego (UCSD)  336  8.8    113\n",
       "2  University of California, San Diego (UCSD)  329  9.4    114\n",
       "3  University of California, San Diego (UCSD)  317  9.7    112\n",
       "4  University of California, San Diego (UCSD)  334  9.7    116"
      ]
     },
     "execution_count": 25,
     "metadata": {},
     "output_type": "execute_result"
    }
   ],
   "source": [
    "data.head()"
   ]
  },
  {
   "cell_type": "markdown",
   "id": "3bea7a3b",
   "metadata": {
    "papermill": {
     "duration": 0.046918,
     "end_time": "2022-04-30T06:10:25.368317",
     "exception": false,
     "start_time": "2022-04-30T06:10:25.321399",
     "status": "completed"
    },
    "tags": []
   },
   "source": [
    "**Creating Req**"
   ]
  },
  {
   "cell_type": "code",
   "execution_count": 26,
   "id": "819dfca4",
   "metadata": {
    "execution": {
     "iopub.execute_input": "2022-04-30T06:10:25.466053Z",
     "iopub.status.busy": "2022-04-30T06:10:25.465450Z",
     "iopub.status.idle": "2022-04-30T06:10:25.479869Z",
     "shell.execute_reply": "2022-04-30T06:10:25.480392Z",
     "shell.execute_reply.started": "2022-04-30T06:09:10.134795Z"
    },
    "papermill": {
     "duration": 0.064846,
     "end_time": "2022-04-30T06:10:25.480549",
     "exception": false,
     "start_time": "2022-04-30T06:10:25.415703",
     "status": "completed"
    },
    "tags": []
   },
   "outputs": [
    {
     "data": {
      "text/html": [
       "<div>\n",
       "<style scoped>\n",
       "    .dataframe tbody tr th:only-of-type {\n",
       "        vertical-align: middle;\n",
       "    }\n",
       "\n",
       "    .dataframe tbody tr th {\n",
       "        vertical-align: top;\n",
       "    }\n",
       "\n",
       "    .dataframe thead th {\n",
       "        text-align: right;\n",
       "    }\n",
       "</style>\n",
       "<table border=\"1\" class=\"dataframe\">\n",
       "  <thead>\n",
       "    <tr style=\"text-align: right;\">\n",
       "      <th></th>\n",
       "      <th>GRE</th>\n",
       "      <th>GPA</th>\n",
       "      <th>TOEFL</th>\n",
       "    </tr>\n",
       "    <tr>\n",
       "      <th>University</th>\n",
       "      <th></th>\n",
       "      <th></th>\n",
       "      <th></th>\n",
       "    </tr>\n",
       "  </thead>\n",
       "  <tbody>\n",
       "    <tr>\n",
       "      <th>Brown University</th>\n",
       "      <td>324.428571</td>\n",
       "      <td>9.021429</td>\n",
       "      <td>111.142857</td>\n",
       "    </tr>\n",
       "    <tr>\n",
       "      <th>Carnegie Mellon University</th>\n",
       "      <td>325.285223</td>\n",
       "      <td>9.122337</td>\n",
       "      <td>111.718213</td>\n",
       "    </tr>\n",
       "    <tr>\n",
       "      <th>Colorado state university</th>\n",
       "      <td>318.423077</td>\n",
       "      <td>8.863462</td>\n",
       "      <td>108.807692</td>\n",
       "    </tr>\n",
       "    <tr>\n",
       "      <th>Columbia University</th>\n",
       "      <td>325.227642</td>\n",
       "      <td>9.087805</td>\n",
       "      <td>111.569106</td>\n",
       "    </tr>\n",
       "    <tr>\n",
       "      <th>Cornell University</th>\n",
       "      <td>324.041667</td>\n",
       "      <td>9.222222</td>\n",
       "      <td>111.805556</td>\n",
       "    </tr>\n",
       "  </tbody>\n",
       "</table>\n",
       "</div>"
      ],
      "text/plain": [
       "                                   GRE       GPA       TOEFL\n",
       "University                                                  \n",
       "Brown University            324.428571  9.021429  111.142857\n",
       "Carnegie Mellon University  325.285223  9.122337  111.718213\n",
       "Colorado state university   318.423077  8.863462  108.807692\n",
       "Columbia University         325.227642  9.087805  111.569106\n",
       "Cornell University          324.041667  9.222222  111.805556"
      ]
     },
     "execution_count": 26,
     "metadata": {},
     "output_type": "execute_result"
    }
   ],
   "source": [
    "by_uni=data.groupby('University')\n",
    "alpha=by_uni.mean()\n",
    "alpha.head()"
   ]
  },
  {
   "cell_type": "code",
   "execution_count": 27,
   "id": "9f5343bd",
   "metadata": {
    "execution": {
     "iopub.execute_input": "2022-04-30T06:10:25.579989Z",
     "iopub.status.busy": "2022-04-30T06:10:25.579322Z",
     "iopub.status.idle": "2022-04-30T06:10:25.592858Z",
     "shell.execute_reply": "2022-04-30T06:10:25.593281Z",
     "shell.execute_reply.started": "2022-04-30T06:09:10.161389Z"
    },
    "papermill": {
     "duration": 0.064407,
     "end_time": "2022-04-30T06:10:25.593451",
     "exception": false,
     "start_time": "2022-04-30T06:10:25.529044",
     "status": "completed"
    },
    "tags": []
   },
   "outputs": [
    {
     "data": {
      "text/html": [
       "<div>\n",
       "<style scoped>\n",
       "    .dataframe tbody tr th:only-of-type {\n",
       "        vertical-align: middle;\n",
       "    }\n",
       "\n",
       "    .dataframe tbody tr th {\n",
       "        vertical-align: top;\n",
       "    }\n",
       "\n",
       "    .dataframe thead th {\n",
       "        text-align: right;\n",
       "    }\n",
       "</style>\n",
       "<table border=\"1\" class=\"dataframe\">\n",
       "  <thead>\n",
       "    <tr style=\"text-align: right;\">\n",
       "      <th></th>\n",
       "      <th>University</th>\n",
       "      <th>GRE</th>\n",
       "      <th>GPA</th>\n",
       "      <th>TOEFL</th>\n",
       "    </tr>\n",
       "  </thead>\n",
       "  <tbody>\n",
       "    <tr>\n",
       "      <th>0</th>\n",
       "      <td>Brown University</td>\n",
       "      <td>324.428571</td>\n",
       "      <td>9.021429</td>\n",
       "      <td>111.142857</td>\n",
       "    </tr>\n",
       "    <tr>\n",
       "      <th>1</th>\n",
       "      <td>Carnegie Mellon University</td>\n",
       "      <td>325.285223</td>\n",
       "      <td>9.122337</td>\n",
       "      <td>111.718213</td>\n",
       "    </tr>\n",
       "    <tr>\n",
       "      <th>2</th>\n",
       "      <td>Colorado state university</td>\n",
       "      <td>318.423077</td>\n",
       "      <td>8.863462</td>\n",
       "      <td>108.807692</td>\n",
       "    </tr>\n",
       "    <tr>\n",
       "      <th>3</th>\n",
       "      <td>Columbia University</td>\n",
       "      <td>325.227642</td>\n",
       "      <td>9.087805</td>\n",
       "      <td>111.569106</td>\n",
       "    </tr>\n",
       "    <tr>\n",
       "      <th>4</th>\n",
       "      <td>Cornell University</td>\n",
       "      <td>324.041667</td>\n",
       "      <td>9.222222</td>\n",
       "      <td>111.805556</td>\n",
       "    </tr>\n",
       "  </tbody>\n",
       "</table>\n",
       "</div>"
      ],
      "text/plain": [
       "                   University         GRE       GPA       TOEFL\n",
       "0            Brown University  324.428571  9.021429  111.142857\n",
       "1  Carnegie Mellon University  325.285223  9.122337  111.718213\n",
       "2   Colorado state university  318.423077  8.863462  108.807692\n",
       "3         Columbia University  325.227642  9.087805  111.569106\n",
       "4          Cornell University  324.041667  9.222222  111.805556"
      ]
     },
     "execution_count": 27,
     "metadata": {},
     "output_type": "execute_result"
    }
   ],
   "source": [
    "req=pd.DataFrame()\n",
    "req['University']=sorted(list(data['University'].unique()))\n",
    "req['GRE']=list(alpha['GRE'])\n",
    "req['GPA']=list(alpha['GPA'])\n",
    "req['TOEFL']=list(alpha['TOEFL'])\n",
    "req.head()"
   ]
  },
  {
   "cell_type": "code",
   "execution_count": 28,
   "id": "2456d031",
   "metadata": {
    "execution": {
     "iopub.execute_input": "2022-04-30T06:10:25.693837Z",
     "iopub.status.busy": "2022-04-30T06:10:25.693188Z",
     "iopub.status.idle": "2022-04-30T06:10:25.935104Z",
     "shell.execute_reply": "2022-04-30T06:10:25.935550Z",
     "shell.execute_reply.started": "2022-04-30T06:09:10.184626Z"
    },
    "papermill": {
     "duration": 0.293652,
     "end_time": "2022-04-30T06:10:25.935730",
     "exception": false,
     "start_time": "2022-04-30T06:10:25.642078",
     "status": "completed"
    },
    "tags": []
   },
   "outputs": [
    {
     "data": {
      "image/png": "[encoded data removed]",
      "text/plain": [
       "<Figure size 1440x1008 with 1 Axes>"
      ]
     },
     "metadata": {},
     "output_type": "display_data"
    }
   ],
   "source": [
    "lu=[x for x in range(34)]\n",
    "fig = plt.figure(figsize = (20, 14))\n",
    "ax = plt.axes(projection =\"3d\")\n",
    "# Creating plot\n",
    "ax.scatter3D(alpha['GPA'],alpha['GRE'],alpha['TOEFL'], c = lu)\n",
    "plt.title(\"Mean Requirements\")\n",
    "# show plot\n",
    "plt.show()"
   ]
  },
  {
   "cell_type": "markdown",
   "id": "21943d60",
   "metadata": {
    "papermill": {
     "duration": 0.051258,
     "end_time": "2022-04-30T06:10:26.039226",
     "exception": false,
     "start_time": "2022-04-30T06:10:25.987968",
     "status": "completed"
    },
    "tags": []
   },
   "source": [
    "**KMeans**"
   ]
  },
  {
   "cell_type": "code",
   "execution_count": 29,
   "id": "3b983c26",
   "metadata": {
    "execution": {
     "iopub.execute_input": "2022-04-30T06:10:26.147638Z",
     "iopub.status.busy": "2022-04-30T06:10:26.146729Z",
     "iopub.status.idle": "2022-04-30T06:10:27.828130Z",
     "shell.execute_reply": "2022-04-30T06:10:27.827507Z",
     "shell.execute_reply.started": "2022-04-30T06:09:10.519804Z"
    },
    "papermill": {
     "duration": 1.738098,
     "end_time": "2022-04-30T06:10:27.828290",
     "exception": false,
     "start_time": "2022-04-30T06:10:26.090192",
     "status": "completed"
    },
    "tags": []
   },
   "outputs": [
    {
     "data": {
      "image/png": "[encoded data removed]",
      "text/plain": [
       "<Figure size 432x288 with 1 Axes>"
      ]
     },
     "metadata": {},
     "output_type": "display_data"
    }
   ],
   "source": [
    "from sklearn.preprocessing import MinMaxScaler\n",
    "from sklearn.metrics import silhouette_score\n",
    "from sklearn.cluster import KMeans\n",
    "#elbow method\n",
    "Z=req[['GPA','GRE','TOEFL']]\n",
    "#Scaling data for better performance\n",
    "min_max_scaler = MinMaxScaler()\n",
    "Z_scale=min_max_scaler.fit_transform(Z)\n",
    "wcss = []\n",
    "for i in range(1,11):\n",
    "    k_means = KMeans(n_clusters=i,init='k-means++', random_state=42)\n",
    "    k_means.fit(Z_scale)\n",
    "    wcss.append(k_means.inertia_)\n",
    "#plot elbow curve\n",
    "plt.plot(np.arange(1,11),wcss)\n",
    "plt.xlabel('Clusters')\n",
    "plt.ylabel('SSE')\n",
    "plt.show()"
   ]
  },
  {
   "cell_type": "code",
   "execution_count": 30,
   "id": "64308122",
   "metadata": {
    "execution": {
     "iopub.execute_input": "2022-04-30T06:10:27.948204Z",
     "iopub.status.busy": "2022-04-30T06:10:27.947472Z",
     "iopub.status.idle": "2022-04-30T06:10:27.973601Z",
     "shell.execute_reply": "2022-04-30T06:10:27.974193Z",
     "shell.execute_reply.started": "2022-04-30T06:09:11.565584Z"
    },
    "papermill": {
     "duration": 0.0928,
     "end_time": "2022-04-30T06:10:27.974390",
     "exception": false,
     "start_time": "2022-04-30T06:10:27.881590",
     "status": "completed"
    },
    "tags": []
   },
   "outputs": [],
   "source": [
    "km=KMeans(n_clusters=6,random_state=101)\n",
    "tier=km.fit_predict(Z_scale)"
   ]
  },
  {
   "cell_type": "code",
   "execution_count": 31,
   "id": "51f80cc7",
   "metadata": {
    "execution": {
     "iopub.execute_input": "2022-04-30T06:10:28.089266Z",
     "iopub.status.busy": "2022-04-30T06:10:28.088366Z",
     "iopub.status.idle": "2022-04-30T06:10:28.092177Z",
     "shell.execute_reply": "2022-04-30T06:10:28.091581Z",
     "shell.execute_reply.started": "2022-04-30T06:09:11.605777Z"
    },
    "papermill": {
     "duration": 0.064189,
     "end_time": "2022-04-30T06:10:28.092310",
     "exception": false,
     "start_time": "2022-04-30T06:10:28.028121",
     "status": "completed"
    },
    "tags": []
   },
   "outputs": [
    {
     "data": {
      "text/plain": [
       "array([[0.9596768 , 0.91128266, 0.93068398],\n",
       "       [0.41467298, 0.38172401, 0.34167729],\n",
       "       [0.65354382, 0.79127358, 0.68573243],\n",
       "       [0.13373466, 0.08781037, 0.02719349],\n",
       "       [0.54008249, 0.59028192, 0.51700139],\n",
       "       [0.7914561 , 0.88078611, 0.81474088]])"
      ]
     },
     "execution_count": 31,
     "metadata": {},
     "output_type": "execute_result"
    }
   ],
   "source": [
    "km.cluster_centers_"
   ]
  },
  {
   "cell_type": "code",
   "execution_count": 32,
   "id": "586e5f5e",
   "metadata": {
    "execution": {
     "iopub.execute_input": "2022-04-30T06:10:28.205325Z",
     "iopub.status.busy": "2022-04-30T06:10:28.202313Z",
     "iopub.status.idle": "2022-04-30T06:10:28.207247Z",
     "shell.execute_reply": "2022-04-30T06:10:28.207660Z",
     "shell.execute_reply.started": "2022-04-30T06:09:11.622340Z"
    },
    "papermill": {
     "duration": 0.060387,
     "end_time": "2022-04-30T06:10:28.207844",
     "exception": false,
     "start_time": "2022-04-30T06:10:28.147457",
     "status": "completed"
    },
    "tags": []
   },
   "outputs": [],
   "source": [
    "req['tier']=tier"
   ]
  },
  {
   "cell_type": "code",
   "execution_count": 33,
   "id": "3b265d98",
   "metadata": {
    "execution": {
     "iopub.execute_input": "2022-04-30T06:10:28.318452Z",
     "iopub.status.busy": "2022-04-30T06:10:28.315593Z",
     "iopub.status.idle": "2022-04-30T06:10:28.323077Z",
     "shell.execute_reply": "2022-04-30T06:10:28.323527Z",
     "shell.execute_reply.started": "2022-04-30T06:09:11.636036Z"
    },
    "papermill": {
     "duration": 0.062817,
     "end_time": "2022-04-30T06:10:28.323684",
     "exception": false,
     "start_time": "2022-04-30T06:10:28.260867",
     "status": "completed"
    },
    "tags": []
   },
   "outputs": [
    {
     "data": {
      "text/plain": [
       "5    10\n",
       "2     9\n",
       "1     5\n",
       "4     4\n",
       "0     4\n",
       "3     2\n",
       "Name: tier, dtype: int64"
      ]
     },
     "execution_count": 33,
     "metadata": {},
     "output_type": "execute_result"
    }
   ],
   "source": [
    "#(req[req['tier']==4])\n",
    "req['tier'].value_counts()"
   ]
  },
  {
   "cell_type": "code",
   "execution_count": 34,
   "id": "450a51af",
   "metadata": {
    "execution": {
     "iopub.execute_input": "2022-04-30T06:10:28.443643Z",
     "iopub.status.busy": "2022-04-30T06:10:28.432656Z",
     "iopub.status.idle": "2022-04-30T06:10:28.447407Z",
     "shell.execute_reply": "2022-04-30T06:10:28.447899Z",
     "shell.execute_reply.started": "2022-04-30T06:09:11.653379Z"
    },
    "papermill": {
     "duration": 0.071449,
     "end_time": "2022-04-30T06:10:28.448057",
     "exception": false,
     "start_time": "2022-04-30T06:10:28.376608",
     "status": "completed"
    },
    "tags": []
   },
   "outputs": [
    {
     "data": {
      "text/html": [
       "<div>\n",
       "<style scoped>\n",
       "    .dataframe tbody tr th:only-of-type {\n",
       "        vertical-align: middle;\n",
       "    }\n",
       "\n",
       "    .dataframe tbody tr th {\n",
       "        vertical-align: top;\n",
       "    }\n",
       "\n",
       "    .dataframe thead th {\n",
       "        text-align: right;\n",
       "    }\n",
       "</style>\n",
       "<table border=\"1\" class=\"dataframe\">\n",
       "  <thead>\n",
       "    <tr style=\"text-align: right;\">\n",
       "      <th></th>\n",
       "      <th>University</th>\n",
       "      <th>GRE</th>\n",
       "      <th>GPA</th>\n",
       "      <th>TOEFL</th>\n",
       "      <th>tier</th>\n",
       "    </tr>\n",
       "  </thead>\n",
       "  <tbody>\n",
       "    <tr>\n",
       "      <th>7</th>\n",
       "      <td>IUPUI</td>\n",
       "      <td>312.666667</td>\n",
       "      <td>8.700000</td>\n",
       "      <td>107.000000</td>\n",
       "      <td>1</td>\n",
       "    </tr>\n",
       "    <tr>\n",
       "      <th>8</th>\n",
       "      <td>Indiana University</td>\n",
       "      <td>315.103448</td>\n",
       "      <td>8.448276</td>\n",
       "      <td>106.275862</td>\n",
       "      <td>1</td>\n",
       "    </tr>\n",
       "    <tr>\n",
       "      <th>16</th>\n",
       "      <td>SUNY Buffalo</td>\n",
       "      <td>316.370370</td>\n",
       "      <td>8.492593</td>\n",
       "      <td>106.851852</td>\n",
       "      <td>1</td>\n",
       "    </tr>\n",
       "    <tr>\n",
       "      <th>18</th>\n",
       "      <td>UT Dallas</td>\n",
       "      <td>315.656250</td>\n",
       "      <td>8.692187</td>\n",
       "      <td>107.453125</td>\n",
       "      <td>1</td>\n",
       "    </tr>\n",
       "    <tr>\n",
       "      <th>27</th>\n",
       "      <td>University of Iowa</td>\n",
       "      <td>317.181818</td>\n",
       "      <td>8.636364</td>\n",
       "      <td>107.500000</td>\n",
       "      <td>1</td>\n",
       "    </tr>\n",
       "  </tbody>\n",
       "</table>\n",
       "</div>"
      ],
      "text/plain": [
       "            University         GRE       GPA       TOEFL  tier\n",
       "7                IUPUI  312.666667  8.700000  107.000000     1\n",
       "8   Indiana University  315.103448  8.448276  106.275862     1\n",
       "16        SUNY Buffalo  316.370370  8.492593  106.851852     1\n",
       "18           UT Dallas  315.656250  8.692187  107.453125     1\n",
       "27  University of Iowa  317.181818  8.636364  107.500000     1"
      ]
     },
     "execution_count": 34,
     "metadata": {},
     "output_type": "execute_result"
    }
   ],
   "source": [
    "req[req['tier']==1]"
   ]
  },
  {
   "cell_type": "code",
   "execution_count": 35,
   "id": "7bd240f2",
   "metadata": {
    "execution": {
     "iopub.execute_input": "2022-04-30T06:10:28.558485Z",
     "iopub.status.busy": "2022-04-30T06:10:28.557517Z",
     "iopub.status.idle": "2022-04-30T06:10:28.807524Z",
     "shell.execute_reply": "2022-04-30T06:10:28.808007Z",
     "shell.execute_reply.started": "2022-04-30T06:09:11.679504Z"
    },
    "papermill": {
     "duration": 0.306831,
     "end_time": "2022-04-30T06:10:28.808175",
     "exception": false,
     "start_time": "2022-04-30T06:10:28.501344",
     "status": "completed"
    },
    "tags": []
   },
   "outputs": [
    {
     "data": {
      "image/png": "[encoded data removed]",
      "text/plain": [
       "<Figure size 1440x1008 with 1 Axes>"
      ]
     },
     "metadata": {},
     "output_type": "display_data"
    }
   ],
   "source": [
    "fig = plt.figure(figsize = (20, 14))\n",
    "ax = plt.axes(projection =\"3d\")\n",
    "ax.scatter3D(req['GPA'],req['GRE'],req['TOEFL'], c= req.tier)\n",
    "plt.title('Clusters of Colleges')\n",
    "ax.legend()\n",
    "plt.show()"
   ]
  },
  {
   "cell_type": "code",
   "execution_count": 36,
   "id": "6d4ebee9",
   "metadata": {
    "execution": {
     "iopub.execute_input": "2022-04-30T06:10:28.926453Z",
     "iopub.status.busy": "2022-04-30T06:10:28.925529Z",
     "iopub.status.idle": "2022-04-30T06:10:28.931357Z",
     "shell.execute_reply": "2022-04-30T06:10:28.930836Z",
     "shell.execute_reply.started": "2022-04-30T06:09:12.018558Z"
    },
    "papermill": {
     "duration": 0.065752,
     "end_time": "2022-04-30T06:10:28.931490",
     "exception": false,
     "start_time": "2022-04-30T06:10:28.865738",
     "status": "completed"
    },
    "tags": []
   },
   "outputs": [],
   "source": [
    "td=req[['University','tier']]"
   ]
  },
  {
   "cell_type": "code",
   "execution_count": 37,
   "id": "59c568e6",
   "metadata": {
    "execution": {
     "iopub.execute_input": "2022-04-30T06:10:29.048881Z",
     "iopub.status.busy": "2022-04-30T06:10:29.047343Z",
     "iopub.status.idle": "2022-04-30T06:10:29.050663Z",
     "shell.execute_reply": "2022-04-30T06:10:29.051120Z",
     "shell.execute_reply.started": "2022-04-30T06:09:12.026569Z"
    },
    "papermill": {
     "duration": 0.06337,
     "end_time": "2022-04-30T06:10:29.051282",
     "exception": false,
     "start_time": "2022-04-30T06:10:28.987912",
     "status": "completed"
    },
    "tags": []
   },
   "outputs": [],
   "source": [
    "#data.drop('tier',inplace=True,axis=1)"
   ]
  },
  {
   "cell_type": "code",
   "execution_count": 38,
   "id": "f92f45ed",
   "metadata": {
    "execution": {
     "iopub.execute_input": "2022-04-30T06:10:29.168121Z",
     "iopub.status.busy": "2022-04-30T06:10:29.167519Z",
     "iopub.status.idle": "2022-04-30T06:10:29.176411Z",
     "shell.execute_reply": "2022-04-30T06:10:29.176818Z",
     "shell.execute_reply.started": "2022-04-30T06:09:12.041973Z"
    },
    "papermill": {
     "duration": 0.069307,
     "end_time": "2022-04-30T06:10:29.176987",
     "exception": false,
     "start_time": "2022-04-30T06:10:29.107680",
     "status": "completed"
    },
    "tags": []
   },
   "outputs": [
    {
     "data": {
      "text/html": [
       "<div>\n",
       "<style scoped>\n",
       "    .dataframe tbody tr th:only-of-type {\n",
       "        vertical-align: middle;\n",
       "    }\n",
       "\n",
       "    .dataframe tbody tr th {\n",
       "        vertical-align: top;\n",
       "    }\n",
       "\n",
       "    .dataframe thead th {\n",
       "        text-align: right;\n",
       "    }\n",
       "</style>\n",
       "<table border=\"1\" class=\"dataframe\">\n",
       "  <thead>\n",
       "    <tr style=\"text-align: right;\">\n",
       "      <th></th>\n",
       "      <th>University</th>\n",
       "      <th>GRE</th>\n",
       "      <th>GPA</th>\n",
       "      <th>TOEFL</th>\n",
       "    </tr>\n",
       "  </thead>\n",
       "  <tbody>\n",
       "    <tr>\n",
       "      <th>0</th>\n",
       "      <td>University of California, San Diego (UCSD)</td>\n",
       "      <td>334</td>\n",
       "      <td>8.9</td>\n",
       "      <td>113</td>\n",
       "    </tr>\n",
       "    <tr>\n",
       "      <th>1</th>\n",
       "      <td>University of California, San Diego (UCSD)</td>\n",
       "      <td>336</td>\n",
       "      <td>8.8</td>\n",
       "      <td>113</td>\n",
       "    </tr>\n",
       "    <tr>\n",
       "      <th>2</th>\n",
       "      <td>University of California, San Diego (UCSD)</td>\n",
       "      <td>329</td>\n",
       "      <td>9.4</td>\n",
       "      <td>114</td>\n",
       "    </tr>\n",
       "    <tr>\n",
       "      <th>3</th>\n",
       "      <td>University of California, San Diego (UCSD)</td>\n",
       "      <td>317</td>\n",
       "      <td>9.7</td>\n",
       "      <td>112</td>\n",
       "    </tr>\n",
       "    <tr>\n",
       "      <th>4</th>\n",
       "      <td>University of California, San Diego (UCSD)</td>\n",
       "      <td>334</td>\n",
       "      <td>9.7</td>\n",
       "      <td>116</td>\n",
       "    </tr>\n",
       "  </tbody>\n",
       "</table>\n",
       "</div>"
      ],
      "text/plain": [
       "                                   University  GRE  GPA  TOEFL\n",
       "0  University of California, San Diego (UCSD)  334  8.9    113\n",
       "1  University of California, San Diego (UCSD)  336  8.8    113\n",
       "2  University of California, San Diego (UCSD)  329  9.4    114\n",
       "3  University of California, San Diego (UCSD)  317  9.7    112\n",
       "4  University of California, San Diego (UCSD)  334  9.7    116"
      ]
     },
     "execution_count": 38,
     "metadata": {},
     "output_type": "execute_result"
    }
   ],
   "source": [
    "data.head()"
   ]
  },
  {
   "cell_type": "code",
   "execution_count": 39,
   "id": "de330f35",
   "metadata": {
    "execution": {
     "iopub.execute_input": "2022-04-30T06:10:29.294590Z",
     "iopub.status.busy": "2022-04-30T06:10:29.294003Z",
     "iopub.status.idle": "2022-04-30T06:10:29.304981Z",
     "shell.execute_reply": "2022-04-30T06:10:29.305402Z",
     "shell.execute_reply.started": "2022-04-30T06:09:12.063179Z"
    },
    "papermill": {
     "duration": 0.071548,
     "end_time": "2022-04-30T06:10:29.305585",
     "exception": false,
     "start_time": "2022-04-30T06:10:29.234037",
     "status": "completed"
    },
    "tags": []
   },
   "outputs": [],
   "source": [
    "final=data.merge(td,on='University')"
   ]
  },
  {
   "cell_type": "code",
   "execution_count": 40,
   "id": "1b51325a",
   "metadata": {
    "execution": {
     "iopub.execute_input": "2022-04-30T06:10:29.423179Z",
     "iopub.status.busy": "2022-04-30T06:10:29.422590Z",
     "iopub.status.idle": "2022-04-30T06:10:29.441916Z",
     "shell.execute_reply": "2022-04-30T06:10:29.442359Z",
     "shell.execute_reply.started": "2022-04-30T06:09:12.081413Z"
    },
    "papermill": {
     "duration": 0.079617,
     "end_time": "2022-04-30T06:10:29.442518",
     "exception": false,
     "start_time": "2022-04-30T06:10:29.362901",
     "status": "completed"
    },
    "tags": []
   },
   "outputs": [
    {
     "data": {
      "text/html": [
       "<div>\n",
       "<style scoped>\n",
       "    .dataframe tbody tr th:only-of-type {\n",
       "        vertical-align: middle;\n",
       "    }\n",
       "\n",
       "    .dataframe tbody tr th {\n",
       "        vertical-align: top;\n",
       "    }\n",
       "\n",
       "    .dataframe thead th {\n",
       "        text-align: right;\n",
       "    }\n",
       "</style>\n",
       "<table border=\"1\" class=\"dataframe\">\n",
       "  <thead>\n",
       "    <tr style=\"text-align: right;\">\n",
       "      <th></th>\n",
       "      <th>GRE</th>\n",
       "      <th>GPA</th>\n",
       "      <th>TOEFL</th>\n",
       "      <th>tier</th>\n",
       "    </tr>\n",
       "  </thead>\n",
       "  <tbody>\n",
       "    <tr>\n",
       "      <th>count</th>\n",
       "      <td>2493.000000</td>\n",
       "      <td>2493.000000</td>\n",
       "      <td>2493.00000</td>\n",
       "      <td>2493.000000</td>\n",
       "    </tr>\n",
       "    <tr>\n",
       "      <th>mean</th>\n",
       "      <td>323.052948</td>\n",
       "      <td>9.063658</td>\n",
       "      <td>110.89290</td>\n",
       "      <td>3.543121</td>\n",
       "    </tr>\n",
       "    <tr>\n",
       "      <th>std</th>\n",
       "      <td>7.651021</td>\n",
       "      <td>0.694523</td>\n",
       "      <td>3.80991</td>\n",
       "      <td>1.931472</td>\n",
       "    </tr>\n",
       "    <tr>\n",
       "      <th>min</th>\n",
       "      <td>284.000000</td>\n",
       "      <td>7.100000</td>\n",
       "      <td>97.00000</td>\n",
       "      <td>0.000000</td>\n",
       "    </tr>\n",
       "    <tr>\n",
       "      <th>25%</th>\n",
       "      <td>318.000000</td>\n",
       "      <td>8.500000</td>\n",
       "      <td>108.00000</td>\n",
       "      <td>2.000000</td>\n",
       "    </tr>\n",
       "    <tr>\n",
       "      <th>50%</th>\n",
       "      <td>323.000000</td>\n",
       "      <td>9.100000</td>\n",
       "      <td>111.00000</td>\n",
       "      <td>5.000000</td>\n",
       "    </tr>\n",
       "    <tr>\n",
       "      <th>75%</th>\n",
       "      <td>329.000000</td>\n",
       "      <td>9.700000</td>\n",
       "      <td>114.00000</td>\n",
       "      <td>5.000000</td>\n",
       "    </tr>\n",
       "    <tr>\n",
       "      <th>max</th>\n",
       "      <td>340.000000</td>\n",
       "      <td>10.000000</td>\n",
       "      <td>119.00000</td>\n",
       "      <td>5.000000</td>\n",
       "    </tr>\n",
       "  </tbody>\n",
       "</table>\n",
       "</div>"
      ],
      "text/plain": [
       "               GRE          GPA       TOEFL         tier\n",
       "count  2493.000000  2493.000000  2493.00000  2493.000000\n",
       "mean    323.052948     9.063658   110.89290     3.543121\n",
       "std       7.651021     0.694523     3.80991     1.931472\n",
       "min     284.000000     7.100000    97.00000     0.000000\n",
       "25%     318.000000     8.500000   108.00000     2.000000\n",
       "50%     323.000000     9.100000   111.00000     5.000000\n",
       "75%     329.000000     9.700000   114.00000     5.000000\n",
       "max     340.000000    10.000000   119.00000     5.000000"
      ]
     },
     "execution_count": 40,
     "metadata": {},
     "output_type": "execute_result"
    }
   ],
   "source": [
    "final.describe()"
   ]
  },
  {
   "cell_type": "code",
   "execution_count": 41,
   "id": "1ac3326b",
   "metadata": {
    "execution": {
     "iopub.execute_input": "2022-04-30T06:10:29.565229Z",
     "iopub.status.busy": "2022-04-30T06:10:29.564277Z",
     "iopub.status.idle": "2022-04-30T06:10:29.578850Z",
     "shell.execute_reply": "2022-04-30T06:10:29.579408Z",
     "shell.execute_reply.started": "2022-04-30T06:09:12.109026Z"
    },
    "papermill": {
     "duration": 0.079319,
     "end_time": "2022-04-30T06:10:29.579567",
     "exception": false,
     "start_time": "2022-04-30T06:10:29.500248",
     "status": "completed"
    },
    "tags": []
   },
   "outputs": [
    {
     "data": {
      "text/html": [
       "<div>\n",
       "<style scoped>\n",
       "    .dataframe tbody tr th:only-of-type {\n",
       "        vertical-align: middle;\n",
       "    }\n",
       "\n",
       "    .dataframe tbody tr th {\n",
       "        vertical-align: top;\n",
       "    }\n",
       "\n",
       "    .dataframe thead th {\n",
       "        text-align: right;\n",
       "    }\n",
       "</style>\n",
       "<table border=\"1\" class=\"dataframe\">\n",
       "  <thead>\n",
       "    <tr style=\"text-align: right;\">\n",
       "      <th></th>\n",
       "      <th>GRE</th>\n",
       "      <th>GPA</th>\n",
       "      <th>TOEFL</th>\n",
       "      <th>tier</th>\n",
       "    </tr>\n",
       "    <tr>\n",
       "      <th>University</th>\n",
       "      <th></th>\n",
       "      <th></th>\n",
       "      <th></th>\n",
       "      <th></th>\n",
       "    </tr>\n",
       "  </thead>\n",
       "  <tbody>\n",
       "    <tr>\n",
       "      <th>Brown University</th>\n",
       "      <td>324.428571</td>\n",
       "      <td>9.021429</td>\n",
       "      <td>111.142857</td>\n",
       "      <td>5.0</td>\n",
       "    </tr>\n",
       "    <tr>\n",
       "      <th>Carnegie Mellon University</th>\n",
       "      <td>325.285223</td>\n",
       "      <td>9.122337</td>\n",
       "      <td>111.718213</td>\n",
       "      <td>5.0</td>\n",
       "    </tr>\n",
       "    <tr>\n",
       "      <th>Colorado state university</th>\n",
       "      <td>318.423077</td>\n",
       "      <td>8.863462</td>\n",
       "      <td>108.807692</td>\n",
       "      <td>4.0</td>\n",
       "    </tr>\n",
       "    <tr>\n",
       "      <th>Columbia University</th>\n",
       "      <td>325.227642</td>\n",
       "      <td>9.087805</td>\n",
       "      <td>111.569106</td>\n",
       "      <td>5.0</td>\n",
       "    </tr>\n",
       "    <tr>\n",
       "      <th>Cornell University</th>\n",
       "      <td>324.041667</td>\n",
       "      <td>9.222222</td>\n",
       "      <td>111.805556</td>\n",
       "      <td>5.0</td>\n",
       "    </tr>\n",
       "    <tr>\n",
       "      <th>Duke University</th>\n",
       "      <td>320.629630</td>\n",
       "      <td>8.751852</td>\n",
       "      <td>109.000000</td>\n",
       "      <td>4.0</td>\n",
       "    </tr>\n",
       "    <tr>\n",
       "      <th>Harvard University</th>\n",
       "      <td>322.045455</td>\n",
       "      <td>9.359091</td>\n",
       "      <td>111.818182</td>\n",
       "      <td>0.0</td>\n",
       "    </tr>\n",
       "    <tr>\n",
       "      <th>IUPUI</th>\n",
       "      <td>312.666667</td>\n",
       "      <td>8.700000</td>\n",
       "      <td>107.000000</td>\n",
       "      <td>1.0</td>\n",
       "    </tr>\n",
       "    <tr>\n",
       "      <th>Indiana University</th>\n",
       "      <td>315.103448</td>\n",
       "      <td>8.448276</td>\n",
       "      <td>106.275862</td>\n",
       "      <td>1.0</td>\n",
       "    </tr>\n",
       "    <tr>\n",
       "      <th>Johns Hopkins University</th>\n",
       "      <td>324.193548</td>\n",
       "      <td>8.900000</td>\n",
       "      <td>110.612903</td>\n",
       "      <td>2.0</td>\n",
       "    </tr>\n",
       "    <tr>\n",
       "      <th>Louisiana State University</th>\n",
       "      <td>311.875000</td>\n",
       "      <td>8.012500</td>\n",
       "      <td>103.875000</td>\n",
       "      <td>3.0</td>\n",
       "    </tr>\n",
       "    <tr>\n",
       "      <th>New York University (NYU)</th>\n",
       "      <td>323.900000</td>\n",
       "      <td>8.925000</td>\n",
       "      <td>110.550000</td>\n",
       "      <td>2.0</td>\n",
       "    </tr>\n",
       "    <tr>\n",
       "      <th>Northwestern University</th>\n",
       "      <td>320.894737</td>\n",
       "      <td>9.084211</td>\n",
       "      <td>110.368421</td>\n",
       "      <td>2.0</td>\n",
       "    </tr>\n",
       "    <tr>\n",
       "      <th>Ohio State University</th>\n",
       "      <td>318.947368</td>\n",
       "      <td>8.742105</td>\n",
       "      <td>108.561404</td>\n",
       "      <td>4.0</td>\n",
       "    </tr>\n",
       "    <tr>\n",
       "      <th>Princeton University</th>\n",
       "      <td>324.431034</td>\n",
       "      <td>9.322414</td>\n",
       "      <td>112.275862</td>\n",
       "      <td>0.0</td>\n",
       "    </tr>\n",
       "    <tr>\n",
       "      <th>Rice University</th>\n",
       "      <td>320.684211</td>\n",
       "      <td>9.036842</td>\n",
       "      <td>110.157895</td>\n",
       "      <td>2.0</td>\n",
       "    </tr>\n",
       "    <tr>\n",
       "      <th>SUNY Buffalo</th>\n",
       "      <td>316.370370</td>\n",
       "      <td>8.492593</td>\n",
       "      <td>106.851852</td>\n",
       "      <td>1.0</td>\n",
       "    </tr>\n",
       "    <tr>\n",
       "      <th>Stanford University</th>\n",
       "      <td>325.957265</td>\n",
       "      <td>9.414530</td>\n",
       "      <td>113.068376</td>\n",
       "      <td>0.0</td>\n",
       "    </tr>\n",
       "    <tr>\n",
       "      <th>UT Dallas</th>\n",
       "      <td>315.656250</td>\n",
       "      <td>8.692187</td>\n",
       "      <td>107.453125</td>\n",
       "      <td>1.0</td>\n",
       "    </tr>\n",
       "    <tr>\n",
       "      <th>University Of Washington</th>\n",
       "      <td>321.384000</td>\n",
       "      <td>9.178400</td>\n",
       "      <td>110.872000</td>\n",
       "      <td>5.0</td>\n",
       "    </tr>\n",
       "    <tr>\n",
       "      <th>University of California, Berkeley (UCB)</th>\n",
       "      <td>325.333333</td>\n",
       "      <td>9.335948</td>\n",
       "      <td>112.562092</td>\n",
       "      <td>0.0</td>\n",
       "    </tr>\n",
       "    <tr>\n",
       "      <th>University of California, Los Angeles (UCLA)</th>\n",
       "      <td>323.490741</td>\n",
       "      <td>9.137037</td>\n",
       "      <td>111.333333</td>\n",
       "      <td>5.0</td>\n",
       "    </tr>\n",
       "    <tr>\n",
       "      <th>University of California, San Diego (UCSD)</th>\n",
       "      <td>323.759434</td>\n",
       "      <td>9.040566</td>\n",
       "      <td>111.000000</td>\n",
       "      <td>5.0</td>\n",
       "    </tr>\n",
       "    <tr>\n",
       "      <th>University of Chicago</th>\n",
       "      <td>321.645161</td>\n",
       "      <td>8.806452</td>\n",
       "      <td>109.483871</td>\n",
       "      <td>2.0</td>\n",
       "    </tr>\n",
       "    <tr>\n",
       "      <th>University of Florida</th>\n",
       "      <td>317.833333</td>\n",
       "      <td>8.721429</td>\n",
       "      <td>108.142857</td>\n",
       "      <td>4.0</td>\n",
       "    </tr>\n",
       "    <tr>\n",
       "      <th>University of Houston</th>\n",
       "      <td>308.875000</td>\n",
       "      <td>8.387500</td>\n",
       "      <td>104.375000</td>\n",
       "      <td>3.0</td>\n",
       "    </tr>\n",
       "    <tr>\n",
       "      <th>University of Illinois at Urbana-Champaign</th>\n",
       "      <td>323.717949</td>\n",
       "      <td>9.153205</td>\n",
       "      <td>111.435897</td>\n",
       "      <td>5.0</td>\n",
       "    </tr>\n",
       "    <tr>\n",
       "      <th>University of Iowa</th>\n",
       "      <td>317.181818</td>\n",
       "      <td>8.636364</td>\n",
       "      <td>107.500000</td>\n",
       "      <td>1.0</td>\n",
       "    </tr>\n",
       "    <tr>\n",
       "      <th>University of Michigan-Ann Arbor</th>\n",
       "      <td>322.208791</td>\n",
       "      <td>8.987912</td>\n",
       "      <td>110.384615</td>\n",
       "      <td>2.0</td>\n",
       "    </tr>\n",
       "    <tr>\n",
       "      <th>University of North Carolina, Chapel Hill</th>\n",
       "      <td>322.071429</td>\n",
       "      <td>8.885714</td>\n",
       "      <td>109.928571</td>\n",
       "      <td>2.0</td>\n",
       "    </tr>\n",
       "    <tr>\n",
       "      <th>University of Pennsylvania</th>\n",
       "      <td>323.546875</td>\n",
       "      <td>8.823437</td>\n",
       "      <td>110.031250</td>\n",
       "      <td>2.0</td>\n",
       "    </tr>\n",
       "    <tr>\n",
       "      <th>University of Texas at Austin</th>\n",
       "      <td>324.760563</td>\n",
       "      <td>9.158451</td>\n",
       "      <td>111.704225</td>\n",
       "      <td>5.0</td>\n",
       "    </tr>\n",
       "    <tr>\n",
       "      <th>University of Wisconsin-Madison</th>\n",
       "      <td>323.112426</td>\n",
       "      <td>9.100000</td>\n",
       "      <td>111.071006</td>\n",
       "      <td>5.0</td>\n",
       "    </tr>\n",
       "    <tr>\n",
       "      <th>Yale University</th>\n",
       "      <td>322.380952</td>\n",
       "      <td>8.909524</td>\n",
       "      <td>110.095238</td>\n",
       "      <td>2.0</td>\n",
       "    </tr>\n",
       "  </tbody>\n",
       "</table>\n",
       "</div>"
      ],
      "text/plain": [
       "                                                     GRE       GPA  \\\n",
       "University                                                           \n",
       "Brown University                              324.428571  9.021429   \n",
       "Carnegie Mellon University                    325.285223  9.122337   \n",
       "Colorado state university                     318.423077  8.863462   \n",
       "Columbia University                           325.227642  9.087805   \n",
       "Cornell University                            324.041667  9.222222   \n",
       "Duke University                               320.629630  8.751852   \n",
       "Harvard University                            322.045455  9.359091   \n",
       "IUPUI                                         312.666667  8.700000   \n",
       "Indiana University                            315.103448  8.448276   \n",
       "Johns Hopkins University                      324.193548  8.900000   \n",
       "Louisiana State University                    311.875000  8.012500   \n",
       "New York University (NYU)                     323.900000  8.925000   \n",
       "Northwestern University                       320.894737  9.084211   \n",
       "Ohio State University                         318.947368  8.742105   \n",
       "Princeton University                          324.431034  9.322414   \n",
       "Rice University                               320.684211  9.036842   \n",
       "SUNY Buffalo                                  316.370370  8.492593   \n",
       "Stanford University                           325.957265  9.414530   \n",
       "UT Dallas                                     315.656250  8.692187   \n",
       "University Of Washington                      321.384000  9.178400   \n",
       "University of California, Berkeley (UCB)      325.333333  9.335948   \n",
       "University of California, Los Angeles (UCLA)  323.490741  9.137037   \n",
       "University of California, San Diego (UCSD)    323.759434  9.040566   \n",
       "University of Chicago                         321.645161  8.806452   \n",
       "University of Florida                         317.833333  8.721429   \n",
       "University of Houston                         308.875000  8.387500   \n",
       "University of Illinois at Urbana-Champaign    323.717949  9.153205   \n",
       "University of Iowa                            317.181818  8.636364   \n",
       "University of Michigan-Ann Arbor              322.208791  8.987912   \n",
       "University of North Carolina, Chapel Hill     322.071429  8.885714   \n",
       "University of Pennsylvania                    323.546875  8.823437   \n",
       "University of Texas at Austin                 324.760563  9.158451   \n",
       "University of Wisconsin-Madison               323.112426  9.100000   \n",
       "Yale University                               322.380952  8.909524   \n",
       "\n",
       "                                                   TOEFL  tier  \n",
       "University                                                      \n",
       "Brown University                              111.142857   5.0  \n",
       "Carnegie Mellon University                    111.718213   5.0  \n",
       "Colorado state university                     108.807692   4.0  \n",
       "Columbia University                           111.569106   5.0  \n",
       "Cornell University                            111.805556   5.0  \n",
       "Duke University                               109.000000   4.0  \n",
       "Harvard University                            111.818182   0.0  \n",
       "IUPUI                                         107.000000   1.0  \n",
       "Indiana University                            106.275862   1.0  \n",
       "Johns Hopkins University                      110.612903   2.0  \n",
       "Louisiana State University                    103.875000   3.0  \n",
       "New York University (NYU)                     110.550000   2.0  \n",
       "Northwestern University                       110.368421   2.0  \n",
       "Ohio State University                         108.561404   4.0  \n",
       "Princeton University                          112.275862   0.0  \n",
       "Rice University                               110.157895   2.0  \n",
       "SUNY Buffalo                                  106.851852   1.0  \n",
       "Stanford University                           113.068376   0.0  \n",
       "UT Dallas                                     107.453125   1.0  \n",
       "University Of Washington                      110.872000   5.0  \n",
       "University of California, Berkeley (UCB)      112.562092   0.0  \n",
       "University of California, Los Angeles (UCLA)  111.333333   5.0  \n",
       "University of California, San Diego (UCSD)    111.000000   5.0  \n",
       "University of Chicago                         109.483871   2.0  \n",
       "University of Florida                         108.142857   4.0  \n",
       "University of Houston                         104.375000   3.0  \n",
       "University of Illinois at Urbana-Champaign    111.435897   5.0  \n",
       "University of Iowa                            107.500000   1.0  \n",
       "University of Michigan-Ann Arbor              110.384615   2.0  \n",
       "University of North Carolina, Chapel Hill     109.928571   2.0  \n",
       "University of Pennsylvania                    110.031250   2.0  \n",
       "University of Texas at Austin                 111.704225   5.0  \n",
       "University of Wisconsin-Madison               111.071006   5.0  \n",
       "Yale University                               110.095238   2.0  "
      ]
     },
     "execution_count": 41,
     "metadata": {},
     "output_type": "execute_result"
    }
   ],
   "source": [
    "final.groupby('University').mean()"
   ]
  },
  {
   "cell_type": "markdown",
   "id": "80f58ee2",
   "metadata": {
    "papermill": {
     "duration": 0.05976,
     "end_time": "2022-04-30T06:10:29.699639",
     "exception": false,
     "start_time": "2022-04-30T06:10:29.639879",
     "status": "completed"
    },
    "tags": []
   },
   "source": [
    "**KNN**"
   ]
  },
  {
   "cell_type": "code",
   "execution_count": 42,
   "id": "2b677949",
   "metadata": {
    "execution": {
     "iopub.execute_input": "2022-04-30T06:10:29.831223Z",
     "iopub.status.busy": "2022-04-30T06:10:29.824742Z",
     "iopub.status.idle": "2022-04-30T06:10:29.836363Z",
     "shell.execute_reply": "2022-04-30T06:10:29.836850Z",
     "shell.execute_reply.started": "2022-04-30T06:09:12.133488Z"
    },
    "papermill": {
     "duration": 0.075998,
     "end_time": "2022-04-30T06:10:29.837028",
     "exception": false,
     "start_time": "2022-04-30T06:10:29.761030",
     "status": "completed"
    },
    "tags": []
   },
   "outputs": [],
   "source": [
    "from sklearn.neighbors import KNeighborsClassifier\n",
    "from sklearn.preprocessing import StandardScaler\n",
    "X=final.drop(['University','tier'],axis=1)\n",
    "y=final.tier\n",
    "scaler = StandardScaler()\n",
    "X_scale = scaler.fit_transform(X)\n",
    "X_train, X_test, y_train, y_test = train_test_split(X_scale, y, test_size = 0.3,random_state = 101)"
   ]
  },
  {
   "cell_type": "code",
   "execution_count": 43,
   "id": "a8d0127b",
   "metadata": {
    "execution": {
     "iopub.execute_input": "2022-04-30T06:10:29.956559Z",
     "iopub.status.busy": "2022-04-30T06:10:29.955959Z",
     "iopub.status.idle": "2022-04-30T06:10:31.909903Z",
     "shell.execute_reply": "2022-04-30T06:10:31.909299Z",
     "shell.execute_reply.started": "2022-04-30T06:09:12.148846Z"
    },
    "papermill": {
     "duration": 2.014759,
     "end_time": "2022-04-30T06:10:31.910043",
     "exception": false,
     "start_time": "2022-04-30T06:10:29.895284",
     "status": "completed"
    },
    "tags": []
   },
   "outputs": [
    {
     "data": {
      "text/plain": [
       "Text(0, 0.5, 'Error Rate')"
      ]
     },
     "execution_count": 43,
     "metadata": {},
     "output_type": "execute_result"
    },
    {
     "data": {
      "image/png": "[encoded data removed]",
      "text/plain": [
       "<Figure size 720x432 with 1 Axes>"
      ]
     },
     "metadata": {},
     "output_type": "display_data"
    }
   ],
   "source": [
    "# Elbow method\n",
    "error_rate = []\n",
    "for i in range(1,60):\n",
    "    knn = KNeighborsClassifier(n_neighbors=i)\n",
    "    knn.fit(X_train,y_train)\n",
    "    pred_i = knn.predict(X_test)\n",
    "    error_rate.append(np.mean(pred_i != y_test))\n",
    "plt.figure(figsize=(10,6))\n",
    "plt.plot(range(1,60),error_rate,color='blue', linestyle='dashed', marker='o', markerfacecolor='red', markersize=10)\n",
    "plt.title('Error Rate vs. K Value')\n",
    "plt.xlabel('K')\n",
    "plt.ylabel('Error Rate')"
   ]
  },
  {
   "cell_type": "markdown",
   "id": "8a59f367",
   "metadata": {
    "papermill": {
     "duration": 0.060331,
     "end_time": "2022-04-30T06:10:32.031949",
     "exception": false,
     "start_time": "2022-04-30T06:10:31.971618",
     "status": "completed"
    },
    "tags": []
   },
   "source": [
    "Error rate decreases as k value increases and becomes constant after a certain k value"
   ]
  },
  {
   "cell_type": "code",
   "execution_count": 44,
   "id": "36d8a977",
   "metadata": {
    "execution": {
     "iopub.execute_input": "2022-04-30T06:10:32.158706Z",
     "iopub.status.busy": "2022-04-30T06:10:32.156182Z",
     "iopub.status.idle": "2022-04-30T06:10:32.191138Z",
     "shell.execute_reply": "2022-04-30T06:10:32.191625Z",
     "shell.execute_reply.started": "2022-04-30T06:09:14.490408Z"
    },
    "papermill": {
     "duration": 0.099768,
     "end_time": "2022-04-30T06:10:32.191807",
     "exception": false,
     "start_time": "2022-04-30T06:10:32.092039",
     "status": "completed"
    },
    "tags": []
   },
   "outputs": [],
   "source": [
    "knn = KNeighborsClassifier(n_neighbors = 58)\n",
    "knn.fit(X_train, y_train)\n",
    "# Predicting the Test set results\n",
    "y_pred = knn.predict(X_test)"
   ]
  },
  {
   "cell_type": "code",
   "execution_count": 45,
   "id": "8fb09412",
   "metadata": {
    "execution": {
     "iopub.execute_input": "2022-04-30T06:10:32.314295Z",
     "iopub.status.busy": "2022-04-30T06:10:32.313643Z",
     "iopub.status.idle": "2022-04-30T06:10:32.325208Z",
     "shell.execute_reply": "2022-04-30T06:10:32.325768Z",
     "shell.execute_reply.started": "2022-04-30T06:09:14.539470Z"
    },
    "papermill": {
     "duration": 0.074586,
     "end_time": "2022-04-30T06:10:32.325956",
     "exception": false,
     "start_time": "2022-04-30T06:10:32.251370",
     "status": "completed"
    },
    "tags": []
   },
   "outputs": [
    {
     "name": "stdout",
     "output_type": "stream",
     "text": [
      "[[  0   0   0   0   0 110]\n",
      " [  0   0   0   0   0  43]\n",
      " [  0   0   0   0   0 117]\n",
      " [  0   0   0   0   0   6]\n",
      " [  0   0   0   0   0  52]\n",
      " [  0   0   0   0   0 420]]\n",
      "              precision    recall  f1-score   support\n",
      "\n",
      "           0       0.00      0.00      0.00       110\n",
      "           1       0.00      0.00      0.00        43\n",
      "           2       0.00      0.00      0.00       117\n",
      "           3       0.00      0.00      0.00         6\n",
      "           4       0.00      0.00      0.00        52\n",
      "           5       0.56      1.00      0.72       420\n",
      "\n",
      "    accuracy                           0.56       748\n",
      "   macro avg       0.09      0.17      0.12       748\n",
      "weighted avg       0.32      0.56      0.40       748\n",
      "\n"
     ]
    }
   ],
   "source": [
    "# Making the Confusion Matrix\n",
    "from sklearn.metrics import confusion_matrix,classification_report,ConfusionMatrixDisplay\n",
    "print(confusion_matrix(y_test, y_pred))\n",
    "print(classification_report(y_test, y_pred))"
   ]
  },
  {
   "cell_type": "code",
   "execution_count": 46,
   "id": "8f2a2b76",
   "metadata": {
    "execution": {
     "iopub.execute_input": "2022-04-30T06:10:32.449875Z",
     "iopub.status.busy": "2022-04-30T06:10:32.449229Z",
     "iopub.status.idle": "2022-04-30T06:10:32.457838Z",
     "shell.execute_reply": "2022-04-30T06:10:32.458389Z",
     "shell.execute_reply.started": "2022-04-30T06:09:14.557838Z"
    },
    "papermill": {
     "duration": 0.072078,
     "end_time": "2022-04-30T06:10:32.458558",
     "exception": false,
     "start_time": "2022-04-30T06:10:32.386480",
     "status": "completed"
    },
    "tags": []
   },
   "outputs": [
    {
     "name": "stdout",
     "output_type": "stream",
     "text": [
      "0                                 Brown University\n",
      "1                       Carnegie Mellon University\n",
      "3                              Columbia University\n",
      "4                               Cornell University\n",
      "19                        University Of Washington\n",
      "21    University of California, Los Angeles (UCLA)\n",
      "22      University of California, San Diego (UCSD)\n",
      "26      University of Illinois at Urbana-Champaign\n",
      "31                   University of Texas at Austin\n",
      "32                 University of Wisconsin-Madison\n",
      "Name: University, dtype: object\n"
     ]
    }
   ],
   "source": [
    "#predict for custom input\n",
    "ti=[[100,315,9.5]]#gre gpa toefl\n",
    "ts=scaler.transform(ti)\n",
    "p=knn.predict(ts)[0]\n",
    "print(req[req['tier']==p].University)"
   ]
  },
  {
   "cell_type": "code",
   "execution_count": 47,
   "id": "3f82fdda",
   "metadata": {
    "execution": {
     "iopub.execute_input": "2022-04-30T06:10:32.582892Z",
     "iopub.status.busy": "2022-04-30T06:10:32.582297Z",
     "iopub.status.idle": "2022-04-30T06:10:32.593585Z",
     "shell.execute_reply": "2022-04-30T06:10:32.594050Z",
     "shell.execute_reply.started": "2022-04-30T06:09:14.568861Z"
    },
    "papermill": {
     "duration": 0.075175,
     "end_time": "2022-04-30T06:10:32.594209",
     "exception": false,
     "start_time": "2022-04-30T06:10:32.519034",
     "status": "completed"
    },
    "tags": []
   },
   "outputs": [
    {
     "data": {
      "text/html": [
       "<div>\n",
       "<style scoped>\n",
       "    .dataframe tbody tr th:only-of-type {\n",
       "        vertical-align: middle;\n",
       "    }\n",
       "\n",
       "    .dataframe tbody tr th {\n",
       "        vertical-align: top;\n",
       "    }\n",
       "\n",
       "    .dataframe thead th {\n",
       "        text-align: right;\n",
       "    }\n",
       "</style>\n",
       "<table border=\"1\" class=\"dataframe\">\n",
       "  <thead>\n",
       "    <tr style=\"text-align: right;\">\n",
       "      <th></th>\n",
       "      <th>University</th>\n",
       "      <th>GRE</th>\n",
       "      <th>GPA</th>\n",
       "      <th>TOEFL</th>\n",
       "      <th>tier</th>\n",
       "    </tr>\n",
       "  </thead>\n",
       "  <tbody>\n",
       "    <tr>\n",
       "      <th>0</th>\n",
       "      <td>Brown University</td>\n",
       "      <td>324.428571</td>\n",
       "      <td>9.021429</td>\n",
       "      <td>111.142857</td>\n",
       "      <td>5</td>\n",
       "    </tr>\n",
       "    <tr>\n",
       "      <th>1</th>\n",
       "      <td>Carnegie Mellon University</td>\n",
       "      <td>325.285223</td>\n",
       "      <td>9.122337</td>\n",
       "      <td>111.718213</td>\n",
       "      <td>5</td>\n",
       "    </tr>\n",
       "    <tr>\n",
       "      <th>3</th>\n",
       "      <td>Columbia University</td>\n",
       "      <td>325.227642</td>\n",
       "      <td>9.087805</td>\n",
       "      <td>111.569106</td>\n",
       "      <td>5</td>\n",
       "    </tr>\n",
       "    <tr>\n",
       "      <th>4</th>\n",
       "      <td>Cornell University</td>\n",
       "      <td>324.041667</td>\n",
       "      <td>9.222222</td>\n",
       "      <td>111.805556</td>\n",
       "      <td>5</td>\n",
       "    </tr>\n",
       "    <tr>\n",
       "      <th>19</th>\n",
       "      <td>University Of Washington</td>\n",
       "      <td>321.384000</td>\n",
       "      <td>9.178400</td>\n",
       "      <td>110.872000</td>\n",
       "      <td>5</td>\n",
       "    </tr>\n",
       "    <tr>\n",
       "      <th>21</th>\n",
       "      <td>University of California, Los Angeles (UCLA)</td>\n",
       "      <td>323.490741</td>\n",
       "      <td>9.137037</td>\n",
       "      <td>111.333333</td>\n",
       "      <td>5</td>\n",
       "    </tr>\n",
       "    <tr>\n",
       "      <th>22</th>\n",
       "      <td>University of California, San Diego (UCSD)</td>\n",
       "      <td>323.759434</td>\n",
       "      <td>9.040566</td>\n",
       "      <td>111.000000</td>\n",
       "      <td>5</td>\n",
       "    </tr>\n",
       "    <tr>\n",
       "      <th>26</th>\n",
       "      <td>University of Illinois at Urbana-Champaign</td>\n",
       "      <td>323.717949</td>\n",
       "      <td>9.153205</td>\n",
       "      <td>111.435897</td>\n",
       "      <td>5</td>\n",
       "    </tr>\n",
       "    <tr>\n",
       "      <th>31</th>\n",
       "      <td>University of Texas at Austin</td>\n",
       "      <td>324.760563</td>\n",
       "      <td>9.158451</td>\n",
       "      <td>111.704225</td>\n",
       "      <td>5</td>\n",
       "    </tr>\n",
       "    <tr>\n",
       "      <th>32</th>\n",
       "      <td>University of Wisconsin-Madison</td>\n",
       "      <td>323.112426</td>\n",
       "      <td>9.100000</td>\n",
       "      <td>111.071006</td>\n",
       "      <td>5</td>\n",
       "    </tr>\n",
       "  </tbody>\n",
       "</table>\n",
       "</div>"
      ],
      "text/plain": [
       "                                      University         GRE       GPA  \\\n",
       "0                               Brown University  324.428571  9.021429   \n",
       "1                     Carnegie Mellon University  325.285223  9.122337   \n",
       "3                            Columbia University  325.227642  9.087805   \n",
       "4                             Cornell University  324.041667  9.222222   \n",
       "19                      University Of Washington  321.384000  9.178400   \n",
       "21  University of California, Los Angeles (UCLA)  323.490741  9.137037   \n",
       "22    University of California, San Diego (UCSD)  323.759434  9.040566   \n",
       "26    University of Illinois at Urbana-Champaign  323.717949  9.153205   \n",
       "31                 University of Texas at Austin  324.760563  9.158451   \n",
       "32               University of Wisconsin-Madison  323.112426  9.100000   \n",
       "\n",
       "         TOEFL  tier  \n",
       "0   111.142857     5  \n",
       "1   111.718213     5  \n",
       "3   111.569106     5  \n",
       "4   111.805556     5  \n",
       "19  110.872000     5  \n",
       "21  111.333333     5  \n",
       "22  111.000000     5  \n",
       "26  111.435897     5  \n",
       "31  111.704225     5  \n",
       "32  111.071006     5  "
      ]
     },
     "execution_count": 47,
     "metadata": {},
     "output_type": "execute_result"
    }
   ],
   "source": [
    "req[req.tier==p]"
   ]
  },
  {
   "cell_type": "markdown",
   "id": "19e3e4fe",
   "metadata": {
    "papermill": {
     "duration": 0.061103,
     "end_time": "2022-04-30T06:10:32.718792",
     "exception": false,
     "start_time": "2022-04-30T06:10:32.657689",
     "status": "completed"
    },
    "tags": []
   },
   "source": [
    "**Decision Tree**"
   ]
  },
  {
   "cell_type": "code",
   "execution_count": 48,
   "id": "b8cb69f3",
   "metadata": {
    "execution": {
     "iopub.execute_input": "2022-04-30T06:10:32.844941Z",
     "iopub.status.busy": "2022-04-30T06:10:32.844209Z",
     "iopub.status.idle": "2022-04-30T06:10:33.174232Z",
     "shell.execute_reply": "2022-04-30T06:10:33.174673Z",
     "shell.execute_reply.started": "2022-04-30T06:09:14.591636Z"
    },
    "papermill": {
     "duration": 0.39503,
     "end_time": "2022-04-30T06:10:33.174877",
     "exception": false,
     "start_time": "2022-04-30T06:10:32.779847",
     "status": "completed"
    },
    "tags": []
   },
   "outputs": [
    {
     "name": "stdout",
     "output_type": "stream",
     "text": [
      "0.5120320855614974\n",
      "[[  5   1   3   0   0 101]\n",
      " [  0   2   7   0   7  27]\n",
      " [  1   6   8   0   2 100]\n",
      " [  1   0   3   1   0   1]\n",
      " [  6   3   7   0   5  31]\n",
      " [ 20   8  24   0   6 362]]\n",
      "              precision    recall  f1-score   support\n",
      "\n",
      "           0       0.15      0.05      0.07       110\n",
      "           1       0.10      0.05      0.06        43\n",
      "           2       0.15      0.07      0.09       117\n",
      "           3       1.00      0.17      0.29         6\n",
      "           4       0.25      0.10      0.14        52\n",
      "           5       0.58      0.86      0.69       420\n",
      "\n",
      "    accuracy                           0.51       748\n",
      "   macro avg       0.37      0.21      0.22       748\n",
      "weighted avg       0.40      0.51      0.43       748\n",
      "\n"
     ]
    }
   ],
   "source": [
    "from sklearn.ensemble import RandomForestClassifier\n",
    "from sklearn.tree import DecisionTreeClassifier\n",
    "from sklearn.preprocessing import LabelEncoder\n",
    "le = LabelEncoder()\n",
    "X=final[['GRE', 'GPA', 'TOEFL']]\n",
    "y1=data['University']\n",
    "#y = le.fit_transform(y1)\n",
    "y= final['tier']\n",
    "#rf = RandomForestClassifier(max_depth=50, random_state=101)\n",
    "dt = RandomForestClassifier(max_depth=50, random_state=101)\n",
    "X_train, X_test, y_train, y_test = train_test_split(X, y, test_size = 0.3,random_state = 101)\n",
    "dt.fit(X_train, y_train)\n",
    "predictions=dt.predict(X_test)\n",
    "print(dt.score(X_test,y_test))\n",
    "print(confusion_matrix(y_test, predictions))\n",
    "print(classification_report(y_test, predictions))"
   ]
  },
  {
   "cell_type": "code",
   "execution_count": null,
   "id": "3437758c",
   "metadata": {
    "papermill": {
     "duration": 0.060456,
     "end_time": "2022-04-30T06:10:33.297447",
     "exception": false,
     "start_time": "2022-04-30T06:10:33.236991",
     "status": "completed"
    },
    "tags": []
   },
   "outputs": [],
   "source": []
  }
 ],
 "metadata": {
  "kernelspec": {
   "display_name": "Python 3",
   "language": "python",
   "name": "python3"
  },
  "language_info": {
   "codemirror_mode": {
    "name": "ipython",
    "version": 3
   },
   "file_extension": ".py",
   "mimetype": "text/x-python",
   "name": "python",
   "nbconvert_exporter": "python",
   "pygments_lexer": "ipython3",
   "version": "3.7.12"
  },
  "papermill": {
   "default_parameters": {},
   "duration": 23.592076,
   "end_time": "2022-04-30T06:10:34.068142",
   "environment_variables": {},
   "exception": null,
   "input_path": "__notebook__.ipynb",
   "output_path": "__notebook__.ipynb",
   "parameters": {},
   "start_time": "2022-04-30T06:10:10.476066",
   "version": "2.3.3"
  }
 },
 "nbformat": 4,
 "nbformat_minor": 5
}
